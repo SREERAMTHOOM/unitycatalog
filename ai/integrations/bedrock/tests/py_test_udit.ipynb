{
 "cells": [
  {
   "cell_type": "code",
   "execution_count": 53,
   "metadata": {},
   "outputs": [],
   "source": [
    "from unitycatalog.ai.core.client import UnitycatalogFunctionClient\n",
    "from unitycatalog.client import ApiClient, Configuration\n",
    "from unitycatalog.ai.bedrock.toolkit import UCFunctionToolkit\n",
    "import uuid\n",
    "from pprint import pprint"
   ]
  },
  {
   "cell_type": "code",
   "execution_count": 54,
   "metadata": {},
   "outputs": [],
   "source": [
    "def setup_uc_client():\n",
    "    \"\"\"Set up Unity Catalog client\"\"\"\n",
    "    config = Configuration()\n",
    "    config.host = \"http://0.0.0.0:8080/api/2.1/unity-catalog\"\n",
    "    api_client = ApiClient(configuration=config)\n",
    "    return UnitycatalogFunctionClient(api_client=api_client)"
   ]
  },
  {
   "cell_type": "code",
   "execution_count": 64,
   "metadata": {},
   "outputs": [],
   "source": [
    "\n",
    "def location_weather_in_c(location_id: str, fetch_date: str) -> str:\n",
    "            \"\"\"Test function for AWS Bedrock integration.\n",
    "\n",
    "            Args:\n",
    "                location_id (str): The location ID for weather lookup\n",
    "                fetch_date (str): The date to fetch weather for\n",
    "\n",
    "            Returns:\n",
    "                str: Weather result in Celsius.\n",
    "            \"\"\"\n",
    "            return \"23\""
   ]
  },
  {
   "cell_type": "code",
   "execution_count": 62,
   "metadata": {},
   "outputs": [
    {
     "name": "stdout",
     "output_type": "stream",
     "text": [
      "Creating catalog...\n"
     ]
    }
   ],
   "source": [
    "# Create catalog and schema\n",
    "CATALOG = \"AICatalog\"\n",
    "SCHEMA = \"AISchema\"\n",
    "\n",
    "client = setup_uc_client()\n",
    "\n",
    "print(\"Creating catalog...\")\n",
    "try:\n",
    "    client.uc.create_catalog(name=CATALOG,\n",
    "                                     comment=\"Catalog for AI functions\")\n",
    "except Exception as e:\n",
    "    if \"already exists\" not in str(e):\n",
    "        raise e"
   ]
  },
  {
   "cell_type": "code",
   "execution_count": 63,
   "metadata": {},
   "outputs": [
    {
     "name": "stdout",
     "output_type": "stream",
     "text": [
      "Creating schema...\n"
     ]
    }
   ],
   "source": [
    "print(\"Creating schema...\")\n",
    "try:\n",
    "    client.uc.create_schema(catalog_name=CATALOG,\n",
    "                                    name=SCHEMA,\n",
    "                                    comment=\"Schema for AI functions\")\n",
    "except Exception as e:\n",
    "    if \"already exists\" not in str(e):\n",
    "        raise e"
   ]
  },
  {
   "cell_type": "code",
   "execution_count": 65,
   "metadata": {},
   "outputs": [
    {
     "name": "stdout",
     "output_type": "stream",
     "text": [
      "Creating function in Unity Catalog...\n"
     ]
    },
    {
     "data": {
      "text/plain": [
       "FunctionInfo(name='location_weather_in_c', catalog_name='AICatalog', schema_name='AISchema', input_params=FunctionParameterInfos(parameters=[FunctionParameterInfo(name='location_id', type_text='STRING', type_json='{\"name\": \"location_id\", \"type\": \"string\", \"nullable\": false, \"metadata\": {\"comment\": \"The location ID for weather lookup\"}}', type_name=<ColumnTypeName.STRING: 'STRING'>, type_precision=None, type_scale=None, type_interval_type=None, position=0, parameter_mode=None, parameter_type=None, parameter_default=None, comment='The location ID for weather lookup'), FunctionParameterInfo(name='fetch_date', type_text='STRING', type_json='{\"name\": \"fetch_date\", \"type\": \"string\", \"nullable\": false, \"metadata\": {\"comment\": \"The date to fetch weather for\"}}', type_name=<ColumnTypeName.STRING: 'STRING'>, type_precision=None, type_scale=None, type_interval_type=None, position=1, parameter_mode=None, parameter_type=None, parameter_default=None, comment='The date to fetch weather for')]), data_type=<ColumnTypeName.STRING: 'STRING'>, full_data_type='STRING', return_params=None, routine_body='EXTERNAL', routine_definition='return \"23\"', routine_dependencies=None, parameter_style='S', is_deterministic=True, sql_data_access='NO_SQL', is_null_call=False, security_type='DEFINER', specific_name='location_weather_in_c', comment='Test function for AWS Bedrock integration.', properties='null', full_name='AICatalog.AISchema.location_weather_in_c', owner=None, created_at=1738100287770, created_by=None, updated_at=1738100287770, updated_by=None, function_id='5ea5e972-0c13-42e9-8275-8f696f31e930', external_language='PYTHON')"
      ]
     },
     "execution_count": 65,
     "metadata": {},
     "output_type": "execute_result"
    }
   ],
   "source": [
    "print(\"Creating function in Unity Catalog...\")\n",
    "client.create_python_function(func=location_weather_in_c,\n",
    "                                      catalog=CATALOG,\n",
    "                                      schema=SCHEMA,\n",
    "                                      replace=True)"
   ]
  },
  {
   "cell_type": "code",
   "execution_count": 68,
   "metadata": {},
   "outputs": [
    {
     "ename": "NameError",
     "evalue": "name 'extract_tool_calls' is not defined",
     "output_type": "error",
     "traceback": [
      "\u001b[0;31m---------------------------------------------------------------------------\u001b[0m",
      "\u001b[0;31mNameError\u001b[0m                                 Traceback (most recent call last)",
      "Cell \u001b[0;32mIn[68], line 16\u001b[0m\n\u001b[1;32m     11\u001b[0m session \u001b[38;5;241m=\u001b[39m toolkit\u001b[38;5;241m.\u001b[39mcreate_session(agent_id\u001b[38;5;241m=\u001b[39magent_id,\n\u001b[1;32m     12\u001b[0m                                          agent_alias_id\u001b[38;5;241m=\u001b[39magent_alias_id)\n\u001b[1;32m     13\u001b[0m session_id \u001b[38;5;241m=\u001b[39m \u001b[38;5;28mstr\u001b[39m(uuid\u001b[38;5;241m.\u001b[39muuid1())\n\u001b[0;32m---> 16\u001b[0m response \u001b[38;5;241m=\u001b[39m \u001b[43msession\u001b[49m\u001b[38;5;241;43m.\u001b[39;49m\u001b[43minvoke_agent\u001b[49m\u001b[43m(\u001b[49m\n\u001b[1;32m     17\u001b[0m \u001b[43m            \u001b[49m\u001b[43minput_text\u001b[49m\u001b[38;5;241;43m=\u001b[39;49m\u001b[38;5;124;43m\"\u001b[39;49m\u001b[38;5;124;43mWhat is the weather for location 1234 and date of 2024-11-19\u001b[39;49m\u001b[38;5;124;43m\"\u001b[39;49m\u001b[43m,\u001b[49m\n\u001b[1;32m     18\u001b[0m \u001b[43m            \u001b[49m\u001b[43menable_trace\u001b[49m\u001b[38;5;241;43m=\u001b[39;49m\u001b[38;5;28;43;01mTrue\u001b[39;49;00m\u001b[43m,\u001b[49m\n\u001b[1;32m     19\u001b[0m \u001b[43m            \u001b[49m\u001b[43msession_id\u001b[49m\u001b[38;5;241;43m=\u001b[39;49m\u001b[43msession_id\u001b[49m\u001b[43m,\u001b[49m\n\u001b[1;32m     20\u001b[0m \u001b[43m            \u001b[49m\u001b[43muc_client\u001b[49m\u001b[38;5;241;43m=\u001b[39;49m\u001b[43mclient\u001b[49m\u001b[43m)\u001b[49m\n\u001b[1;32m     22\u001b[0m \u001b[38;5;28mprint\u001b[39m(\u001b[38;5;124m\"\u001b[39m\u001b[38;5;130;01m\\n\u001b[39;00m\u001b[38;5;124mFinal response:\u001b[39m\u001b[38;5;124m\"\u001b[39m)\n\u001b[1;32m     23\u001b[0m \u001b[38;5;28mprint\u001b[39m(response)\n",
      "File \u001b[0;32m~/Documents/Dev/unitycatalog/ai/integrations/bedrock/src/unitycatalog/ai/bedrock/toolkit.py:69\u001b[0m, in \u001b[0;36minvoke_agent\u001b[0;34m(self, input_text, enable_trace, session_id, session_state, uc_client, stream)\u001b[0m\n\u001b[1;32m     60\u001b[0m                 func_input \u001b[38;5;241m=\u001b[39m invocation[\u001b[38;5;124m'\u001b[39m\u001b[38;5;124mfunctionInvocationInput\u001b[39m\u001b[38;5;124m'\u001b[39m]\n\u001b[1;32m     61\u001b[0m                 func_name \u001b[38;5;241m=\u001b[39m \u001b[38;5;124mf\u001b[39m\u001b[38;5;124m\"\u001b[39m\u001b[38;5;132;01m{\u001b[39;00mfunc_input[\u001b[38;5;124m'\u001b[39m\u001b[38;5;124mactionGroup\u001b[39m\u001b[38;5;124m'\u001b[39m]\u001b[38;5;132;01m}\u001b[39;00m\u001b[38;5;124m__\u001b[39m\u001b[38;5;132;01m{\u001b[39;00mfunc_input[\u001b[38;5;124m'\u001b[39m\u001b[38;5;124mfunction\u001b[39m\u001b[38;5;124m'\u001b[39m]\u001b[38;5;132;01m}\u001b[39;00m\u001b[38;5;124m\"\u001b[39m\n\u001b[1;32m     62\u001b[0m                 tool_calls\u001b[38;5;241m.\u001b[39mappend({\n\u001b[1;32m     63\u001b[0m                     \u001b[38;5;124m'\u001b[39m\u001b[38;5;124mfunction_name\u001b[39m\u001b[38;5;124m'\u001b[39m: func_name,\n\u001b[1;32m     64\u001b[0m                     \u001b[38;5;124m'\u001b[39m\u001b[38;5;124mparameters\u001b[39m\u001b[38;5;124m'\u001b[39m: {\n\u001b[1;32m     65\u001b[0m                         p[\u001b[38;5;124m'\u001b[39m\u001b[38;5;124mname\u001b[39m\u001b[38;5;124m'\u001b[39m]: p[\u001b[38;5;124m'\u001b[39m\u001b[38;5;124mvalue\u001b[39m\u001b[38;5;124m'\u001b[39m]\n\u001b[1;32m     66\u001b[0m                         \u001b[38;5;28;01mfor\u001b[39;00m p \u001b[38;5;129;01min\u001b[39;00m func_input[\u001b[38;5;124m'\u001b[39m\u001b[38;5;124mparameters\u001b[39m\u001b[38;5;124m'\u001b[39m]\n\u001b[1;32m     67\u001b[0m                     },\n\u001b[1;32m     68\u001b[0m                     \u001b[38;5;124m'\u001b[39m\u001b[38;5;124minvocation_id\u001b[39m\u001b[38;5;124m'\u001b[39m: control_data[\u001b[38;5;124m'\u001b[39m\u001b[38;5;124minvocationId\u001b[39m\u001b[38;5;124m'\u001b[39m]\n\u001b[0;32m---> 69\u001b[0m                 })\n\u001b[1;32m     70\u001b[0m \u001b[38;5;28;01mreturn\u001b[39;00m tool_calls\n",
      "\u001b[0;31mNameError\u001b[0m: name 'extract_tool_calls' is not defined"
     ]
    }
   ],
   "source": [
    "\n",
    "# Create toolkit with weather function\n",
    "function_name = f\"{CATALOG}.{SCHEMA}.location_weather_in_c\"\n",
    "toolkit = UCFunctionToolkit(function_names=[function_name],\n",
    "                                    client=client)\n",
    "\n",
    "# Bedrock agent configuration\n",
    "agent_id = \"AP5RQUVNTU\"  # Replace with your agent ID\n",
    "agent_alias_id = \"O6EXN8DJVZ\"  # Replace with your alias ID\n",
    "\n",
    "# Create a session with Bedrock agent\n",
    "session = toolkit.create_session(agent_id=agent_id,\n",
    "                                         agent_alias_id=agent_alias_id)\n",
    "session_id = str(uuid.uuid1())\n",
    "\n",
    "\n",
    "response = session.invoke_agent(\n",
    "            input_text=\"What is the weather for location 1234 and date of 2024-11-19\",\n",
    "            enable_trace=True,\n",
    "            session_id=session_id,\n",
    "            uc_client=client)\n",
    "\n",
    "print(\"\\nFinal response:\")\n",
    "print(response)\n",
    "    \n",
    "\n"
   ]
  },
  {
   "cell_type": "code",
   "execution_count": null,
   "metadata": {},
   "outputs": [],
   "source": []
  },
  {
   "cell_type": "code",
   "execution_count": null,
   "metadata": {},
   "outputs": [],
   "source": []
  }
 ],
 "metadata": {
  "kernelspec": {
   "display_name": ".venv",
   "language": "python",
   "name": "python3"
  },
  "language_info": {
   "codemirror_mode": {
    "name": "ipython",
    "version": 3
   },
   "file_extension": ".py",
   "mimetype": "text/x-python",
   "name": "python",
   "nbconvert_exporter": "python",
   "pygments_lexer": "ipython3",
   "version": "3.12.7"
  }
 },
 "nbformat": 4,
 "nbformat_minor": 4
}

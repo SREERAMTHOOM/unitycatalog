{
 "cells": [
  {
   "cell_type": "markdown",
   "metadata": {},
   "source": [
    "# Notebook to test the Bedrock Agents and UC Functions."
   ]
  },
  {
   "cell_type": "code",
   "execution_count": 1,
   "metadata": {},
   "outputs": [],
   "source": [
    "%load_ext autoreload\n",
    "%autoreload 2"
   ]
  },
  {
   "cell_type": "code",
   "execution_count": 3,
   "metadata": {},
   "outputs": [],
   "source": [
    "from unitycatalog.ai.core.client import UnitycatalogFunctionClient\n",
    "from unitycatalog.client import ApiClient, Configuration\n",
    "from unitycatalog.ai.bedrock.toolkit import UCFunctionToolkit\n"
   ]
  },
  {
   "cell_type": "code",
   "execution_count": 4,
   "metadata": {},
   "outputs": [],
   "source": [
    "config = Configuration()\n",
    "config.host = \"http://localhost:8080/api/2.1/unity-catalog\"\n",
    "\n",
    "# The base ApiClient is async\n",
    "api_client = ApiClient(configuration=config)\n",
    "\n",
    "client = UnitycatalogFunctionClient(api_client=api_client)\n",
    "\n",
    "CATALOG = \"AICatalog\"\n",
    "SCHEMA = \"AISchema\"\n"
   ]
  },
  {
   "cell_type": "code",
   "execution_count": 5,
   "metadata": {},
   "outputs": [],
   "source": [
    "# Sample function\n",
    "    \n",
    "def location_weather_in_c(location_id: str, fetch_date: str) -> str:\n",
    "    \"\"\"Test function for AWS Bedrock integration.\n",
    "\n",
    "    Args:\n",
    "        location_id (str): The name to be included in the greeting message.\n",
    "        fetch_date (str): The date with the location \n",
    "\n",
    "    Raises:\n",
    "        Exception: If there is an error during the function execution.\n",
    "\n",
    "    Returns:\n",
    "        str: Weather result.\n",
    "    \"\"\"\n",
    "    try:\n",
    "        # Fetch from Databricks SQL Warehouse based UC function execution \n",
    "        return \"23\"\n",
    "    except Exception as e:\n",
    "        raise Exception(f\"Error occurred: {e}\")"
   ]
  },
  {
   "cell_type": "code",
   "execution_count": 5,
   "metadata": {},
   "outputs": [
    {
     "data": {
      "text/plain": [
       "CatalogInfo(name='AICatalog', comment='Catalog for AI functions', properties={}, owner=None, created_at=1737005234233, created_by=None, updated_at=1737005234233, updated_by=None, id='7dc1e000-2854-46ac-9811-d140c1cb942e')"
      ]
     },
     "execution_count": 5,
     "metadata": {},
     "output_type": "execute_result"
    }
   ],
   "source": [
    "client.uc.create_catalog(name=CATALOG, comment=\"Catalog for AI functions\")"
   ]
  },
  {
   "cell_type": "code",
   "execution_count": 6,
   "metadata": {},
   "outputs": [
    {
     "data": {
      "text/plain": [
       "SchemaInfo(name='AISchema', catalog_name='AICatalog', comment='Schema for AI functions', properties={}, full_name='AICatalog.AISchema', owner=None, created_at=1737005278533, created_by=None, updated_at=1737005278533, updated_by=None, schema_id='c164dc56-8ee1-489c-9dad-19734bbcb0d7')"
      ]
     },
     "execution_count": 6,
     "metadata": {},
     "output_type": "execute_result"
    }
   ],
   "source": [
    "client.uc.create_schema(catalog_name=CATALOG, name=SCHEMA, comment=\"Schema for AI functions\")"
   ]
  },
  {
   "cell_type": "code",
   "execution_count": 7,
   "metadata": {},
   "outputs": [
    {
     "name": "stderr",
     "output_type": "stream",
     "text": [
      "/Users/udit.anand/Documents/Dev/unitycatalog/.venv/lib/python3.12/site-packages/unitycatalog/ai/core/utils/callable_utils.py:421: UserWarning: In function 'location_weather_in_c': The following parameters are documented in the docstring but not present in the function signature: Exception\n",
      "  check_docstring_signature_consistency(docstring_info.params, params_in_signature, func_name)\n"
     ]
    },
    {
     "data": {
      "text/plain": [
       "FunctionInfo(name='location_weather_in_c', catalog_name='AICatalog', schema_name='AISchema', input_params=FunctionParameterInfos(parameters=[FunctionParameterInfo(name='location_id', type_text='STRING', type_json='{\"name\": \"location_id\", \"type\": \"string\", \"nullable\": false, \"metadata\": {\"comment\": \"The name to be included in the greeting message.\"}}', type_name=<ColumnTypeName.STRING: 'STRING'>, type_precision=None, type_scale=None, type_interval_type=None, position=0, parameter_mode=None, parameter_type=None, parameter_default=None, comment='The name to be included in the greeting message.'), FunctionParameterInfo(name='fetch_date', type_text='STRING', type_json='{\"name\": \"fetch_date\", \"type\": \"string\", \"nullable\": false, \"metadata\": {\"comment\": \"The date with the location\"}}', type_name=<ColumnTypeName.STRING: 'STRING'>, type_precision=None, type_scale=None, type_interval_type=None, position=1, parameter_mode=None, parameter_type=None, parameter_default=None, comment='The date with the location')]), data_type=<ColumnTypeName.STRING: 'STRING'>, full_data_type='STRING', return_params=None, routine_body='EXTERNAL', routine_definition='try:\\n    # Fetch from Databricks SQL Warehouse based UC function execution \\n    return \"23\"\\nexcept Exception as e:\\n    raise Exception(f\"Error occurred: {e}\")', routine_dependencies=None, parameter_style='S', is_deterministic=True, sql_data_access='NO_SQL', is_null_call=False, security_type='DEFINER', specific_name='location_weather_in_c', comment='Test function for AWS Bedrock integration.', properties='null', full_name='AICatalog.AISchema.location_weather_in_c', owner=None, created_at=1738703541746, created_by=None, updated_at=1738703541746, updated_by=None, function_id='5937d4a7-1d10-4ae2-87ff-1b3be92df25d', external_language='PYTHON')"
      ]
     },
     "execution_count": 7,
     "metadata": {},
     "output_type": "execute_result"
    }
   ],
   "source": [
    "client.create_python_function(\n",
    "    func=location_weather_in_c, \n",
    "    catalog=CATALOG, \n",
    "    schema=SCHEMA, \n",
    "    replace=True)"
   ]
  },
  {
   "cell_type": "markdown",
   "metadata": {},
   "source": [
    "## Check if UC function exists"
   ]
  },
  {
   "cell_type": "code",
   "execution_count": 6,
   "metadata": {},
   "outputs": [],
   "source": [
    "function_name = f\"{CATALOG}.{SCHEMA}.location_weather_in_c\""
   ]
  },
  {
   "cell_type": "code",
   "execution_count": 7,
   "metadata": {},
   "outputs": [
    {
     "name": "stdout",
     "output_type": "stream",
     "text": [
      "name='location_weather_in_c' catalog_name='AICatalog' schema_name='AISchema' input_params=FunctionParameterInfos(parameters=[FunctionParameterInfo(name='location_id', type_text='STRING', type_json='{\"name\": \"location_id\", \"type\": \"string\", \"nullable\": false, \"metadata\": {\"comment\": \"The name to be included in the greeting message.\"}}', type_name=<ColumnTypeName.STRING: 'STRING'>, type_precision=None, type_scale=None, type_interval_type=None, position=0, parameter_mode=None, parameter_type=None, parameter_default=None, comment='The name to be included in the greeting message.'), FunctionParameterInfo(name='fetch_date', type_text='STRING', type_json='{\"name\": \"fetch_date\", \"type\": \"string\", \"nullable\": false, \"metadata\": {\"comment\": \"The date with the location\"}}', type_name=<ColumnTypeName.STRING: 'STRING'>, type_precision=None, type_scale=None, type_interval_type=None, position=1, parameter_mode=None, parameter_type=None, parameter_default=None, comment='The date with the location')]) data_type=<ColumnTypeName.STRING: 'STRING'> full_data_type='STRING' return_params=None routine_body='EXTERNAL' routine_definition='try:\\n    # Fetch from Databricks SQL Warehouse based UC function execution \\n    return \"23\"\\nexcept Exception as e:\\n    raise Exception(f\"Error occurred: {e}\")' routine_dependencies=None parameter_style='S' is_deterministic=True sql_data_access='NO_SQL' is_null_call=False security_type='DEFINER' specific_name='location_weather_in_c' comment='Test function for AWS Bedrock integration.' properties=None full_name='AICatalog.AISchema.location_weather_in_c' owner=None created_at=1737052468431 created_by=None updated_at=1737052468431 updated_by=None function_id='34c2410b-5c00-4d4b-831e-1ed1fa28f570' external_language='PYTHON'\n"
     ]
    }
   ],
   "source": [
    "try:\n",
    "    print(client.get_function(function_name))\n",
    "except Exception as e:\n",
    "    print(f\"Function {function_name} does not exist, creating it...\")"
   ]
  },
  {
   "cell_type": "code",
   "execution_count": 8,
   "metadata": {},
   "outputs": [
    {
     "data": {
      "text/plain": [
       "[FunctionInfo(name='bedrock_test_function', catalog_name='AICatalog', schema_name='AISchema', input_params=FunctionParameterInfos(parameters=[FunctionParameterInfo(name='name', type_text='STRING', type_json='{\"name\": \"name\", \"type\": \"string\", \"nullable\": false, \"metadata\": {\"comment\": \"The name to be included in the greeting message.\"}}', type_name=<ColumnTypeName.STRING: 'STRING'>, type_precision=None, type_scale=None, type_interval_type=None, position=0, parameter_mode=None, parameter_type=None, parameter_default=None, comment='The name to be included in the greeting message.')]), data_type=<ColumnTypeName.STRING: 'STRING'>, full_data_type='STRING', return_params=None, routine_body='EXTERNAL', routine_definition='try:\\n    # Fetch from Databricks SQL Warehouse based UC function execution \\n    return \"hello: \" + name\\nexcept Exception as e:\\n    raise Exception(f\"Error occurred: {e}\")', routine_dependencies=None, parameter_style='S', is_deterministic=True, sql_data_access='NO_SQL', is_null_call=False, security_type='DEFINER', specific_name='bedrock_test_function', comment='Test function for AWS Bedrock integration.', properties='{}', full_name='AICatalog.AISchema.bedrock_test_function', owner=None, created_at=1737051619073, created_by=None, updated_at=1737051619073, updated_by=None, function_id='3c033e2d-fe17-4fd5-8c37-befa7ce608de', external_language='PYTHON'),\n",
       " FunctionInfo(name='get_weather_in_celsius', catalog_name='AICatalog', schema_name='AISchema', input_params=FunctionParameterInfos(parameters=[FunctionParameterInfo(name='location_id', type_text='STRING', type_json='{\"name\": \"location_id\", \"type\": \"string\", \"nullable\": false, \"metadata\": {\"comment\": \"A unique identifier for the location.\"}}', type_name=<ColumnTypeName.STRING: 'STRING'>, type_precision=None, type_scale=None, type_interval_type=None, position=0, parameter_mode=None, parameter_type=None, parameter_default=None, comment='A unique identifier for the location.'), FunctionParameterInfo(name='fetch_date', type_text='STRING', type_json='{\"name\": \"fetch_date\", \"type\": \"string\", \"nullable\": false, \"metadata\": {\"comment\": \"The date to fetch the weather for (format: YYYY-MM-DD).\"}}', type_name=<ColumnTypeName.STRING: 'STRING'>, type_precision=None, type_scale=None, type_interval_type=None, position=1, parameter_mode=None, parameter_type=None, parameter_default=None, comment='The date to fetch the weather for (format: YYYY-MM-DD).')]), data_type=<ColumnTypeName.STRING: 'STRING'>, full_data_type='STRING', return_params=None, routine_body='EXTERNAL', routine_definition='try:\\n    # Validate location_id\\n    if not isinstance(location_id, str) or not location_id.strip():\\n        raise ValueError(\"location_id must be a non-empty string.\")\\n\\n    # Validate and parse fetch_date\\n    try:\\n        datetime.strptime(fetch_date, \"%Y-%m-%d\")\\n    except ValueError:\\n        raise ValueError(\"fetch_date must be in the format YYYY-MM-DD.\")\\n\\n    min_f: float = -30.0, \\n    max_f: float = 120.0\\n    # Generate a random temperature in Fahrenheit\\n    fahrenheit = round(random.uniform(min_f, max_f), 2)\\n\\n    # Convert to Celsius\\n    celsius = round((fahrenheit - 32) * 5 / 9, 2)\\n\\n    return str(celsius)\\n\\nexcept ValueError as ve:\\n    raise ve  # Re-raise the specific ValueError for invalid inputs\\nexcept Exception as e:\\n    raise Exception(f\"An unexpected error occurred: {e}\")', routine_dependencies=None, parameter_style='S', is_deterministic=True, sql_data_access='NO_SQL', is_null_call=False, security_type='DEFINER', specific_name='get_weather_in_celsius', comment='Simulate fetching weather data (in Celsius) for a given location and date.', properties='{}', full_name='AICatalog.AISchema.get_weather_in_celsius', owner=None, created_at=1737730437179, created_by=None, updated_at=1737730437179, updated_by=None, function_id='3ddb9a92-d362-4e9a-800e-c15bc5254d36', external_language='PYTHON'),\n",
       " FunctionInfo(name='location_weather_in_c', catalog_name='AICatalog', schema_name='AISchema', input_params=FunctionParameterInfos(parameters=[FunctionParameterInfo(name='location_id', type_text='STRING', type_json='{\"name\": \"location_id\", \"type\": \"string\", \"nullable\": false, \"metadata\": {\"comment\": \"The name to be included in the greeting message.\"}}', type_name=<ColumnTypeName.STRING: 'STRING'>, type_precision=None, type_scale=None, type_interval_type=None, position=0, parameter_mode=None, parameter_type=None, parameter_default=None, comment='The name to be included in the greeting message.'), FunctionParameterInfo(name='fetch_date', type_text='STRING', type_json='{\"name\": \"fetch_date\", \"type\": \"string\", \"nullable\": false, \"metadata\": {\"comment\": \"The date with the location\"}}', type_name=<ColumnTypeName.STRING: 'STRING'>, type_precision=None, type_scale=None, type_interval_type=None, position=1, parameter_mode=None, parameter_type=None, parameter_default=None, comment='The date with the location')]), data_type=<ColumnTypeName.STRING: 'STRING'>, full_data_type='STRING', return_params=None, routine_body='EXTERNAL', routine_definition='try:\\n    # Fetch from Databricks SQL Warehouse based UC function execution \\n    return \"23\"\\nexcept Exception as e:\\n    raise Exception(f\"Error occurred: {e}\")', routine_dependencies=None, parameter_style='S', is_deterministic=True, sql_data_access='NO_SQL', is_null_call=False, security_type='DEFINER', specific_name='location_weather_in_c', comment='Test function for AWS Bedrock integration.', properties='{}', full_name='AICatalog.AISchema.location_weather_in_c', owner=None, created_at=1737052468431, created_by=None, updated_at=1737052468431, updated_by=None, function_id='34c2410b-5c00-4d4b-831e-1ed1fa28f570', external_language='PYTHON')]"
      ]
     },
     "execution_count": 8,
     "metadata": {},
     "output_type": "execute_result"
    }
   ],
   "source": [
    "client.list_functions(catalog=CATALOG, schema=SCHEMA)"
   ]
  },
  {
   "cell_type": "code",
   "execution_count": 9,
   "metadata": {},
   "outputs": [],
   "source": [
    "function_name = f\"{CATALOG}.{SCHEMA}.location_weather_in_c\"\n",
    "toolkit = UCFunctionToolkit(function_names=[function_name], client=client, catalog_name=CATALOG, schema_name=SCHEMA)"
   ]
  },
  {
   "cell_type": "code",
   "execution_count": 10,
   "metadata": {},
   "outputs": [
    {
     "name": "stdout",
     "output_type": "stream",
     "text": [
      "name='location_weather_in_c' catalog_name='AICatalog' schema_name='AISchema' input_params=FunctionParameterInfos(parameters=[FunctionParameterInfo(name='location_id', type_text='STRING', type_json='{\"name\": \"location_id\", \"type\": \"string\", \"nullable\": false, \"metadata\": {\"comment\": \"The name to be included in the greeting message.\"}}', type_name=<ColumnTypeName.STRING: 'STRING'>, type_precision=None, type_scale=None, type_interval_type=None, position=0, parameter_mode=None, parameter_type=None, parameter_default=None, comment='The name to be included in the greeting message.'), FunctionParameterInfo(name='fetch_date', type_text='STRING', type_json='{\"name\": \"fetch_date\", \"type\": \"string\", \"nullable\": false, \"metadata\": {\"comment\": \"The date with the location\"}}', type_name=<ColumnTypeName.STRING: 'STRING'>, type_precision=None, type_scale=None, type_interval_type=None, position=1, parameter_mode=None, parameter_type=None, parameter_default=None, comment='The date with the location')]) data_type=<ColumnTypeName.STRING: 'STRING'> full_data_type='STRING' return_params=None routine_body='EXTERNAL' routine_definition='try:\\n    # Fetch from Databricks SQL Warehouse based UC function execution \\n    return \"23\"\\nexcept Exception as e:\\n    raise Exception(f\"Error occurred: {e}\")' routine_dependencies=None parameter_style='S' is_deterministic=True sql_data_access='NO_SQL' is_null_call=False security_type='DEFINER' specific_name='location_weather_in_c' comment='Test function for AWS Bedrock integration.' properties=None full_name='AICatalog.AISchema.location_weather_in_c' owner=None created_at=1737052468431 created_by=None updated_at=1737052468431 updated_by=None function_id='34c2410b-5c00-4d4b-831e-1ed1fa28f570' external_language='PYTHON'\n"
     ]
    }
   ],
   "source": [
    "print(toolkit.client.get_function(function_name))"
   ]
  },
  {
   "cell_type": "markdown",
   "metadata": {},
   "source": [
    "# Adding Bedrock SDK calls \n"
   ]
  },
  {
   "cell_type": "code",
   "execution_count": 13,
   "metadata": {},
   "outputs": [],
   "source": [
    "import boto3, pprint, json, time, uuid"
   ]
  },
  {
   "cell_type": "code",
   "execution_count": 14,
   "metadata": {},
   "outputs": [],
   "source": [
    "#boto3.setup_default_session()"
   ]
  },
  {
   "cell_type": "code",
   "execution_count": 15,
   "metadata": {},
   "outputs": [],
   "source": [
    "agent_id = \"AP5RQUVNTU\"\n",
    "agent_alias_id = \"O6EXN8DJVZ\""
   ]
  },
  {
   "cell_type": "code",
   "execution_count": 16,
   "metadata": {},
   "outputs": [],
   "source": [
    "# Bedrock agent configuration\n",
    "session = toolkit.create_session(agent_id=agent_id,\n",
    "                                agent_alias_id=agent_alias_id)\n",
    "# Generate unique session ID\n",
    "session_id = str(uuid.uuid1())"
   ]
  },
  {
   "cell_type": "code",
   "execution_count": 17,
   "metadata": {},
   "outputs": [
    {
     "data": {
      "text/plain": [
       "[FunctionInfo(name='bedrock_test_function', catalog_name='AICatalog', schema_name='AISchema', input_params=FunctionParameterInfos(parameters=[FunctionParameterInfo(name='name', type_text='STRING', type_json='{\"name\": \"name\", \"type\": \"string\", \"nullable\": false, \"metadata\": {\"comment\": \"The name to be included in the greeting message.\"}}', type_name=<ColumnTypeName.STRING: 'STRING'>, type_precision=None, type_scale=None, type_interval_type=None, position=0, parameter_mode=None, parameter_type=None, parameter_default=None, comment='The name to be included in the greeting message.')]), data_type=<ColumnTypeName.STRING: 'STRING'>, full_data_type='STRING', return_params=None, routine_body='EXTERNAL', routine_definition='try:\\n    # Fetch from Databricks SQL Warehouse based UC function execution \\n    return \"hello: \" + name\\nexcept Exception as e:\\n    raise Exception(f\"Error occurred: {e}\")', routine_dependencies=None, parameter_style='S', is_deterministic=True, sql_data_access='NO_SQL', is_null_call=False, security_type='DEFINER', specific_name='bedrock_test_function', comment='Test function for AWS Bedrock integration.', properties='{}', full_name='AICatalog.AISchema.bedrock_test_function', owner=None, created_at=1737005598209, created_by=None, updated_at=1737005598209, updated_by=None, function_id='b9e823e6-8688-4e11-9ad9-ebf17aa04a57', external_language='PYTHON'),\n",
       " FunctionInfo(name='location_weather_in_c', catalog_name='AICatalog', schema_name='AISchema', input_params=FunctionParameterInfos(parameters=[FunctionParameterInfo(name='location_id', type_text='STRING', type_json='{\"name\": \"location_id\", \"type\": \"string\", \"nullable\": false, \"metadata\": {\"comment\": \"The name to be included in the greeting message.\"}}', type_name=<ColumnTypeName.STRING: 'STRING'>, type_precision=None, type_scale=None, type_interval_type=None, position=0, parameter_mode=None, parameter_type=None, parameter_default=None, comment='The name to be included in the greeting message.'), FunctionParameterInfo(name='fetch_date', type_text='STRING', type_json='{\"name\": \"fetch_date\", \"type\": \"string\", \"nullable\": false, \"metadata\": {\"comment\": \"The date with the location\"}}', type_name=<ColumnTypeName.STRING: 'STRING'>, type_precision=None, type_scale=None, type_interval_type=None, position=1, parameter_mode=None, parameter_type=None, parameter_default=None, comment='The date with the location')]), data_type=<ColumnTypeName.STRING: 'STRING'>, full_data_type='STRING', return_params=None, routine_body='EXTERNAL', routine_definition='try:\\n    # Fetch from Databricks SQL Warehouse based UC function execution \\n    return \"23\"\\nexcept Exception as e:\\n    raise Exception(f\"Error occurred: {e}\")', routine_dependencies=None, parameter_style='S', is_deterministic=True, sql_data_access='NO_SQL', is_null_call=False, security_type='DEFINER', specific_name='location_weather_in_c', comment='Test function for AWS Bedrock integration.', properties='{}', full_name='AICatalog.AISchema.location_weather_in_c', owner=None, created_at=1738703541746, created_by=None, updated_at=1738703541746, updated_by=None, function_id='5937d4a7-1d10-4ae2-87ff-1b3be92df25d', external_language='PYTHON')]"
      ]
     },
     "execution_count": 17,
     "metadata": {},
     "output_type": "execute_result"
    }
   ],
   "source": [
    "client.list_functions(catalog=CATALOG, schema=SCHEMA)"
   ]
  },
  {
   "cell_type": "code",
   "execution_count": 18,
   "metadata": {},
   "outputs": [
    {
     "data": {
      "text/plain": [
       "FunctionInfo(name='location_weather_in_c', catalog_name='AICatalog', schema_name='AISchema', input_params=FunctionParameterInfos(parameters=[FunctionParameterInfo(name='location_id', type_text='STRING', type_json='{\"name\": \"location_id\", \"type\": \"string\", \"nullable\": false, \"metadata\": {\"comment\": \"The name to be included in the greeting message.\"}}', type_name=<ColumnTypeName.STRING: 'STRING'>, type_precision=None, type_scale=None, type_interval_type=None, position=0, parameter_mode=None, parameter_type=None, parameter_default=None, comment='The name to be included in the greeting message.'), FunctionParameterInfo(name='fetch_date', type_text='STRING', type_json='{\"name\": \"fetch_date\", \"type\": \"string\", \"nullable\": false, \"metadata\": {\"comment\": \"The date with the location\"}}', type_name=<ColumnTypeName.STRING: 'STRING'>, type_precision=None, type_scale=None, type_interval_type=None, position=1, parameter_mode=None, parameter_type=None, parameter_default=None, comment='The date with the location')]), data_type=<ColumnTypeName.STRING: 'STRING'>, full_data_type='STRING', return_params=None, routine_body='EXTERNAL', routine_definition='try:\\n    # Fetch from Databricks SQL Warehouse based UC function execution \\n    return \"23\"\\nexcept Exception as e:\\n    raise Exception(f\"Error occurred: {e}\")', routine_dependencies=None, parameter_style='S', is_deterministic=True, sql_data_access='NO_SQL', is_null_call=False, security_type='DEFINER', specific_name='location_weather_in_c', comment='Test function for AWS Bedrock integration.', properties=None, full_name='AICatalog.AISchema.location_weather_in_c', owner=None, created_at=1738703541746, created_by=None, updated_at=1738703541746, updated_by=None, function_id='5937d4a7-1d10-4ae2-87ff-1b3be92df25d', external_language='PYTHON')"
      ]
     },
     "execution_count": 18,
     "metadata": {},
     "output_type": "execute_result"
    }
   ],
   "source": [
    "client.get_function('AICatalog.AISchema.location_weather_in_c')"
   ]
  },
  {
   "cell_type": "code",
   "execution_count": 21,
   "metadata": {},
   "outputs": [
    {
     "name": "stdout",
     "output_type": "stream",
     "text": [
      "Response from invoke agent: {'ResponseMetadata': {'RequestId': '80be282b-8f01-4a97-9a5c-7efb94f2e2a1', 'HTTPStatusCode': 200, 'HTTPHeaders': {'date': 'Tue, 04 Feb 2025 21:20:29 GMT', 'content-type': 'application/vnd.amazon.eventstream', 'transfer-encoding': 'chunked', 'connection': 'keep-alive', 'x-amzn-requestid': '80be282b-8f01-4a97-9a5c-7efb94f2e2a1', 'x-amz-bedrock-agent-session-id': 'b9666c3a-e33c-11ef-9098-4e3e215d14d1', 'x-amzn-bedrock-agent-content-type': 'application/json'}, 'RetryAttempts': 0}, 'contentType': 'application/json', 'sessionId': 'b9666c3a-e33c-11ef-9098-4e3e215d14d1', 'completion': <botocore.eventstream.EventStream object at 0x115cd5cd0>}\n",
      "Tool Call Results: [{'function_name': 'tbd-bda-action-group-name__location_weather_in_c', 'parameters': {'fetch_date': '2024-11-19', 'location_id': '1234'}, 'invocation_id': 'c752ccf6-45c6-4ae2-a27a-5dd61378896e-uc-result'}]\n",
      "Attempting to execute function: tbd-bda-action-group-name__location_weather_in_c with parameters: {'fetch_date': '2024-11-19', 'location_id': '1234'}\n",
      "Retrieved function info Override: name='location_weather_in_c' catalog_name='AICatalog' schema_name='AISchema' input_params=FunctionParameterInfos(parameters=[FunctionParameterInfo(name='location_id', type_text='STRING', type_json='{\"name\": \"location_id\", \"type\": \"string\", \"nullable\": false, \"metadata\": {\"comment\": \"The name to be included in the greeting message.\"}}', type_name=<ColumnTypeName.STRING: 'STRING'>, type_precision=None, type_scale=None, type_interval_type=None, position=0, parameter_mode=None, parameter_type=None, parameter_default=None, comment='The name to be included in the greeting message.'), FunctionParameterInfo(name='fetch_date', type_text='STRING', type_json='{\"name\": \"fetch_date\", \"type\": \"string\", \"nullable\": false, \"metadata\": {\"comment\": \"The date with the location\"}}', type_name=<ColumnTypeName.STRING: 'STRING'>, type_precision=None, type_scale=None, type_interval_type=None, position=1, parameter_mode=None, parameter_type=None, parameter_default=None, comment='The date with the location')]) data_type=<ColumnTypeName.STRING: 'STRING'> full_data_type='STRING' return_params=None routine_body='EXTERNAL' routine_definition='try:\\n    # Fetch from Databricks SQL Warehouse based UC function execution \\n    return \"23\"\\nexcept Exception as e:\\n    raise Exception(f\"Error occurred: {e}\")' routine_dependencies=None parameter_style='S' is_deterministic=True sql_data_access='NO_SQL' is_null_call=False security_type='DEFINER' specific_name='location_weather_in_c' comment='Test function for AWS Bedrock integration.' properties=None full_name='AICatalog.AISchema.location_weather_in_c' owner=None created_at=1738703541746 created_by=None updated_at=1738703541746 updated_by=None function_id='5937d4a7-1d10-4ae2-87ff-1b3be92df25d' external_language='PYTHON'\n",
      "ToolResults: [{'invocation_id': 'c752ccf6-45c6-4ae2-a27a-5dd61378896e-uc-result', 'result': '23'}]\n",
      "SessionState: {'invocationId': 'c752ccf6-45c6-4ae2-a27a-5dd61378896e-uc-result', 'returnControlInvocationResults': [{'functionResult': {'actionGroup': 'tbd-bda-action-group-name', 'function': 'location_weather_in_c', 'confirmationState': 'CONFIRM', 'responseBody': {'TEXT': {'body': '23'}}}}]}\n",
      "Results: [{'functionResult': {'actionGroup': 'tbd-bda-action-group-name', 'function': 'location_weather_in_c', 'confirmationState': 'CONFIRM', 'responseBody': {'TEXT': {'body': '23'}}}}]\n",
      "response_body_obj: {'TEXT': {'body': '23'}}\n",
      "result value: 23\n"
     ]
    }
   ],
   "source": [
    "response = session.invoke_agent(\n",
    "                input_text=\"What is the weather for location 1234 and date of 2024-11-19\",\n",
    "                enable_trace=True,\n",
    "                session_id=session_id,\n",
    "                uc_client = toolkit.client\n",
    "                )"
   ]
  },
  {
   "cell_type": "code",
   "execution_count": 23,
   "metadata": {},
   "outputs": [
    {
     "name": "stdout",
     "output_type": "stream",
     "text": [
      "'23'\n"
     ]
    }
   ],
   "source": [
    "import pprint \n",
    "pprint.pp(response.response_body)"
   ]
  }
 ],
 "metadata": {
  "kernelspec": {
   "display_name": ".venv",
   "language": "python",
   "name": "python3"
  },
  "language_info": {
   "codemirror_mode": {
    "name": "ipython",
    "version": 3
   },
   "file_extension": ".py",
   "mimetype": "text/x-python",
   "name": "python",
   "nbconvert_exporter": "python",
   "pygments_lexer": "ipython3",
   "version": "3.13.1"
  }
 },
 "nbformat": 4,
 "nbformat_minor": 2
}

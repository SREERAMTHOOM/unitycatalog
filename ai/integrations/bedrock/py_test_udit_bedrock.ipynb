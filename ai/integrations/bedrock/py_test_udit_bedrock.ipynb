{
 "cells": [
  {
   "cell_type": "markdown",
   "metadata": {},
   "source": [
    "# Notebook to test the Bedrock Agents and UC Functions."
   ]
  },
  {
   "cell_type": "code",
   "execution_count": 16,
   "metadata": {},
   "outputs": [],
   "source": [
    "from unitycatalog.ai.core.client import UnitycatalogFunctionClient\n",
    "from unitycatalog.client import ApiClient, Configuration\n"
   ]
  },
  {
   "cell_type": "code",
   "execution_count": 17,
   "metadata": {},
   "outputs": [],
   "source": [
    "from unitycatalog.ai.bedrock.toolkit import UCFunctionToolkit"
   ]
  },
  {
   "cell_type": "code",
   "execution_count": 26,
   "metadata": {},
   "outputs": [],
   "source": [
    "config = Configuration()\n",
    "config.host = \"http://localhost:8080/api/2.1/unity-catalog\"\n",
    "\n",
    "# The base ApiClient is async\n",
    "api_client = ApiClient(configuration=config)\n",
    "\n",
    "client = UnitycatalogFunctionClient(api_client=api_client)\n",
    "\n",
    "CATALOG = \"AICatalog\"\n",
    "SCHEMA = \"AISchema\"\n"
   ]
  },
  {
   "cell_type": "code",
   "execution_count": 27,
   "metadata": {},
   "outputs": [],
   "source": [
    "# Sample function\n",
    "    \n",
    "def bedrock_test_function(name: str) -> str:\n",
    "    \"\"\"Test function for AWS Bedrock integration.\n",
    "\n",
    "    Args:\n",
    "        name (str): The name to be included in the greeting message.\n",
    "\n",
    "    Raises:\n",
    "        Exception: If there is an error during the function execution.\n",
    "\n",
    "    Returns:\n",
    "        str: A greeting message containing the provided name.\n",
    "    \"\"\"\n",
    "    try:\n",
    "        # Fetch from Databricks SQL Warehouse based UC function execution \n",
    "        return \"hello: \" + name\n",
    "    except Exception as e:\n",
    "        raise Exception(f\"Error occurred: {e}\")"
   ]
  },
  {
   "cell_type": "code",
   "execution_count": 49,
   "metadata": {},
   "outputs": [
    {
     "data": {
      "text/plain": [
       "CatalogInfo(name='AICatalog', comment='Catalog for AI functions', properties={}, owner=None, created_at=1737005234233, created_by=None, updated_at=1737005234233, updated_by=None, id='7dc1e000-2854-46ac-9811-d140c1cb942e')"
      ]
     },
     "execution_count": 49,
     "metadata": {},
     "output_type": "execute_result"
    }
   ],
   "source": [
    "client.uc.create_catalog(name=CATALOG, comment=\"Catalog for AI functions\")"
   ]
  },
  {
   "cell_type": "code",
   "execution_count": 50,
   "metadata": {},
   "outputs": [
    {
     "data": {
      "text/plain": [
       "SchemaInfo(name='AISchema', catalog_name='AICatalog', comment='Schema for AI functions', properties={}, full_name='AICatalog.AISchema', owner=None, created_at=1737005278533, created_by=None, updated_at=1737005278533, updated_by=None, schema_id='c164dc56-8ee1-489c-9dad-19734bbcb0d7')"
      ]
     },
     "execution_count": 50,
     "metadata": {},
     "output_type": "execute_result"
    }
   ],
   "source": [
    "client.uc.create_schema(catalog_name=CATALOG, name=SCHEMA, comment=\"Schema for AI functions\")"
   ]
  },
  {
   "cell_type": "code",
   "execution_count": 53,
   "metadata": {},
   "outputs": [
    {
     "name": "stdout",
     "output_type": "stream",
     "text": [
      "<coroutine object CatalogsApi.list_catalogs at 0x1106f3a00>\n"
     ]
    },
    {
     "name": "stderr",
     "output_type": "stream",
     "text": [
      "/var/folders/0l/p6d93v3n5cndl983x2_60qfr0000gp/T/ipykernel_21338/96438115.py:1: RuntimeWarning: coroutine 'CatalogsApi.list_catalogs' was never awaited\n",
      "  print(client.uc.catalogs_client.list_catalogs())\n",
      "RuntimeWarning: Enable tracemalloc to get the object allocation traceback\n"
     ]
    }
   ],
   "source": [
    "print(client.uc.catalogs_client.list_catalogs())"
   ]
  },
  {
   "cell_type": "code",
   "execution_count": 54,
   "metadata": {},
   "outputs": [
    {
     "name": "stderr",
     "output_type": "stream",
     "text": [
      "/Users/udit.anand/Documents/Dev/unitycatalog/.venv/lib/python3.12/site-packages/unitycatalog/ai/core/utils/callable_utils.py:421: UserWarning: In function 'bedrock_test_function': The following parameters are documented in the docstring but not present in the function signature: Exception\n",
      "  check_docstring_signature_consistency(docstring_info.params, params_in_signature, func_name)\n"
     ]
    },
    {
     "data": {
      "text/plain": [
       "FunctionInfo(name='bedrock_test_function', catalog_name='AICatalog', schema_name='AISchema', input_params=FunctionParameterInfos(parameters=[FunctionParameterInfo(name='name', type_text='STRING', type_json='{\"name\": \"name\", \"type\": \"string\", \"nullable\": false, \"metadata\": {\"comment\": \"The name to be included in the greeting message.\"}}', type_name=<ColumnTypeName.STRING: 'STRING'>, type_precision=None, type_scale=None, type_interval_type=None, position=0, parameter_mode=None, parameter_type=None, parameter_default=None, comment='The name to be included in the greeting message.')]), data_type=<ColumnTypeName.STRING: 'STRING'>, full_data_type='STRING', return_params=None, routine_body='EXTERNAL', routine_definition='try:\\n    # Fetch from Databricks SQL Warehouse based UC function execution \\n    return \"hello: \" + name\\nexcept Exception as e:\\n    raise Exception(f\"Error occurred: {e}\")', routine_dependencies=None, parameter_style='S', is_deterministic=True, sql_data_access='NO_SQL', is_null_call=False, security_type='DEFINER', specific_name='bedrock_test_function', comment='Test function for AWS Bedrock integration.', properties='null', full_name='AICatalog.AISchema.bedrock_test_function', owner=None, created_at=1737005598209, created_by=None, updated_at=1737005598209, updated_by=None, function_id='b9e823e6-8688-4e11-9ad9-ebf17aa04a57', external_language='PYTHON')"
      ]
     },
     "execution_count": 54,
     "metadata": {},
     "output_type": "execute_result"
    }
   ],
   "source": [
    "client.create_python_function(\n",
    "    func=bedrock_test_function, \n",
    "    catalog=CATALOG, \n",
    "    schema=SCHEMA, \n",
    "    replace=True)"
   ]
  },
  {
   "cell_type": "code",
   "execution_count": 55,
   "metadata": {},
   "outputs": [
    {
     "data": {
      "text/plain": [
       "[FunctionInfo(name='bedrock_test_function', catalog_name='AICatalog', schema_name='AISchema', input_params=FunctionParameterInfos(parameters=[FunctionParameterInfo(name='name', type_text='STRING', type_json='{\"name\": \"name\", \"type\": \"string\", \"nullable\": false, \"metadata\": {\"comment\": \"The name to be included in the greeting message.\"}}', type_name=<ColumnTypeName.STRING: 'STRING'>, type_precision=None, type_scale=None, type_interval_type=None, position=0, parameter_mode=None, parameter_type=None, parameter_default=None, comment='The name to be included in the greeting message.')]), data_type=<ColumnTypeName.STRING: 'STRING'>, full_data_type='STRING', return_params=None, routine_body='EXTERNAL', routine_definition='try:\\n    # Fetch from Databricks SQL Warehouse based UC function execution \\n    return \"hello: \" + name\\nexcept Exception as e:\\n    raise Exception(f\"Error occurred: {e}\")', routine_dependencies=None, parameter_style='S', is_deterministic=True, sql_data_access='NO_SQL', is_null_call=False, security_type='DEFINER', specific_name='bedrock_test_function', comment='Test function for AWS Bedrock integration.', properties='{}', full_name='AICatalog.AISchema.bedrock_test_function', owner=None, created_at=1737005598209, created_by=None, updated_at=1737005598209, updated_by=None, function_id='b9e823e6-8688-4e11-9ad9-ebf17aa04a57', external_language='PYTHON')]"
      ]
     },
     "execution_count": 55,
     "metadata": {},
     "output_type": "execute_result"
    }
   ],
   "source": [
    "client.list_functions(catalog=CATALOG, schema=SCHEMA)"
   ]
  },
  {
   "cell_type": "code",
   "execution_count": 56,
   "metadata": {},
   "outputs": [],
   "source": [
    "function_name = f\"{CATALOG}.{SCHEMA}.bedrock_test_function\"\n",
    "toolkit = UCFunctionToolkit(function_names=[function_name], client=client)"
   ]
  },
  {
   "cell_type": "code",
   "execution_count": 59,
   "metadata": {},
   "outputs": [
    {
     "name": "stdout",
     "output_type": "stream",
     "text": [
      "function_names=['AICatalog.AISchema.bedrock_test_function'] tools_dict={'AICatalog.AISchema.bedrock_test_function': BedrockTool(name='AICatalog__AISchema__bedrock_test_function', description='Test function for AWS Bedrock integration.', parameters={'type': 'object', 'properties': {'name': {'default': None, 'description': 'The name to be included in the greeting message.', 'title': 'Name', 'type': 'string'}}, 'required': []}, requireConfirmation='ENABLED')} client=<unitycatalog.ai.core.client.UnitycatalogFunctionClient object at 0x10524bf20>\n"
     ]
    }
   ],
   "source": [
    "print(toolkit)"
   ]
  },
  {
   "cell_type": "code",
   "execution_count": null,
   "metadata": {},
   "outputs": [],
   "source": []
  }
 ],
 "metadata": {
  "kernelspec": {
   "display_name": ".venv",
   "language": "python",
   "name": "python3"
  },
  "language_info": {
   "codemirror_mode": {
    "name": "ipython",
    "version": 3
   },
   "file_extension": ".py",
   "mimetype": "text/x-python",
   "name": "python",
   "nbconvert_exporter": "python",
   "pygments_lexer": "ipython3",
   "version": "3.12.7"
  }
 },
 "nbformat": 4,
 "nbformat_minor": 2
}

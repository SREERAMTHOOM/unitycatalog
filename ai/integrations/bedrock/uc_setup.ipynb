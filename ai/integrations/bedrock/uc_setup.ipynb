{
 "cells": [
  {
   "cell_type": "code",
   "execution_count": null,
   "metadata": {
    "vscode": {
     "languageId": "plaintext"
    }
   },
   "outputs": [],
   "source": [
    "from unitycatalog.ai.core.client import UnitycatalogFunctionClient\n",
    "from unitycatalog.client import ApiClient, Configuration\n",
    "from unitycatalog.ai.bedrock.toolkit import UCFunctionToolkit\n",
    "import uuid, pprint"
   ]
  },
  {
   "cell_type": "code",
   "execution_count": null,
   "metadata": {
    "vscode": {
     "languageId": "plaintext"
    }
   },
   "outputs": [],
   "source": [
    "def setup_uc_client():\n",
    "    \"\"\"Set up Unity Catalog client\"\"\"\n",
    "    config = Configuration()\n",
    "    config.host = \"http://0.0.0.0:8080/api/2.1/unity-catalog\"\n",
    "    api_client = ApiClient(configuration=config)\n",
    "    return UnitycatalogFunctionClient(api_client=api_client)"
   ]
  },
  {
   "cell_type": "code",
   "execution_count": null,
   "metadata": {
    "vscode": {
     "languageId": "plaintext"
    }
   },
   "outputs": [],
   "source": [
    "def location_weather_in_c(location_id: str, fetch_date: str) -> str:\n",
    "            \"\"\"Test function for AWS Bedrock integration.\n",
    "\n",
    "            Args:\n",
    "                location_id (str): The location ID for weather lookup\n",
    "                fetch_date (str): The date to fetch weather for\n",
    "\n",
    "            Returns:\n",
    "                str: Weather result in Celsius.\n",
    "            \"\"\"\n",
    "            return \"23\""
   ]
  },
  {
   "cell_type": "code",
   "execution_count": null,
   "metadata": {
    "vscode": {
     "languageId": "plaintext"
    }
   },
   "outputs": [],
   "source": [
    "def get_weather_in_celsius(location_id: str, fetch_date: str) -> str:\n",
    "    \"\"\"\n",
    "    Fetches weather data (in Celsius) for a given location and date.\n",
    "\n",
    "    Args:\n",
    "        location_id (str): A unique identifier for the location.\n",
    "        fetch_date (str): The date to fetch the weather for (format: YYYY-MM-DD).\n",
    "\n",
    "    Raises:\n",
    "        Exception: For unexpected errors during execution.\n",
    "\n",
    "    Returns:\n",
    "        str: Temperature in Celsius.\n",
    "    \"\"\"\n",
    "    try:\n",
    "        return str(23)\n",
    "    except Exception as e:\n",
    "        raise Exception(f\"An unexpected error occurred: {e}\")"
   ]
  },
  {
   "cell_type": "code",
   "execution_count": null,
   "metadata": {
    "vscode": {
     "languageId": "plaintext"
    }
   },
   "outputs": [],
   "source": [
    "def get_weather_in_fahrenheit(location_id: str, fetch_date: str) -> str:\n",
    "    \"\"\"\n",
    "    Fetches weather data (in fahrenheit) for a given location and date.\n",
    "\n",
    "    Args:\n",
    "        location_id (str): A unique identifier for the location.\n",
    "        fetch_date (str): The date to fetch the weather for (format: YYYY-MM-DD).\n",
    "\n",
    "    Raises:\n",
    "        Exception: For unexpected errors during execution.\n",
    "\n",
    "    Returns:\n",
    "        str: Temperature in fahrenheit.\n",
    "    \"\"\"\n",
    "    try:\n",
    "        return str(23)\n",
    "    except Exception as e:\n",
    "        raise Exception(f\"An unexpected error occurred: {e}\")\n"
   ]
  },
  {
   "cell_type": "code",
   "execution_count": null,
   "metadata": {
    "vscode": {
     "languageId": "plaintext"
    }
   },
   "outputs": [],
   "source": [
    "client.uc.create_catalog(name=CATALOG, comment=\"Catalog for AI functions\")\n"
   ]
  },
  {
   "cell_type": "code",
   "execution_count": null,
   "metadata": {
    "vscode": {
     "languageId": "plaintext"
    }
   },
   "outputs": [],
   "source": [
    "client.uc.create_schema(catalog_name=CATALOG, name=SCHEMA, comment=\"Schema for AI functions\")\n"
   ]
  },
  {
   "cell_type": "code",
   "execution_count": null,
   "metadata": {
    "vscode": {
     "languageId": "plaintext"
    }
   },
   "outputs": [],
   "source": [
    "client.create_python_function(\n",
    "    func=get_weather_in_celsius, \n",
    "    catalog=CATALOG, \n",
    "    schema=SCHEMA, \n",
    "    replace=True)"
   ]
  },
  {
   "cell_type": "code",
   "execution_count": null,
   "metadata": {
    "vscode": {
     "languageId": "plaintext"
    }
   },
   "outputs": [],
   "source": [
    "client.create_python_function(\n",
    "    func=get_weather_in_fahrenheit, \n",
    "    catalog=CATALOG, \n",
    "    schema=SCHEMA, \n",
    "    replace=True)"
   ]
  },
  {
   "cell_type": "code",
   "execution_count": null,
   "metadata": {
    "vscode": {
     "languageId": "plaintext"
    }
   },
   "outputs": [],
   "source": [
    "client.list_functions(catalog=CATALOG, schema=SCHEMA)\n"
   ]
  },
  {
   "cell_type": "code",
   "execution_count": null,
   "metadata": {
    "vscode": {
     "languageId": "plaintext"
    }
   },
   "outputs": [],
   "source": [
    "function_name = f\"{CATALOG}.{SCHEMA}.location_weather_in_c\"\n",
    "toolkit = UCFunctionToolkit(function_names=[function_name], client=client)"
   ]
  },
  {
   "cell_type": "code",
   "execution_count": null,
   "metadata": {
    "vscode": {
     "languageId": "plaintext"
    }
   },
   "outputs": [],
   "source": [
    "print(toolkit)\n"
   ]
  }
 ],
 "metadata": {
  "language_info": {
   "name": "python"
  }
 },
 "nbformat": 4,
 "nbformat_minor": 2
}

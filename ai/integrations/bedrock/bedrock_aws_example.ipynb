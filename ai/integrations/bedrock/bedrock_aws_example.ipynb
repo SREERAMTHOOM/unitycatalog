{
 "cells": [
  {
   "cell_type": "code",
   "execution_count": null,
   "metadata": {},
   "outputs": [],
   "source": [
    "# Notebook to test the Bedrock Agents and UC Functions."
   ]
  },
  {
   "cell_type": "code",
   "execution_count": 20,
   "metadata": {},
   "outputs": [],
   "source": [
    "import boto3, pprint, json, time, uuid"
   ]
  },
  {
   "cell_type": "code",
   "execution_count": 12,
   "metadata": {},
   "outputs": [],
   "source": [
    "# Create Boto3 client for IAM and STS\n",
    "\n",
    "iam_client = boto3.client('iam')\n",
    "sts_client = boto3.client('sts')"
   ]
  },
  {
   "cell_type": "code",
   "execution_count": null,
   "metadata": {},
   "outputs": [],
   "source": [
    "session = boto3.session.Session()\n",
    "\n",
    "print(session)"
   ]
  },
  {
   "cell_type": "code",
   "execution_count": null,
   "metadata": {},
   "outputs": [],
   "source": [
    "region = session.region_name\n",
    "account_id = sts_client.get_caller_identity()[\"Account\"]\n",
    "\n",
    "pprint.pprint(region)\n",
    "pprint.pprint(account_id)"
   ]
  },
  {
   "cell_type": "code",
   "execution_count": 100,
   "metadata": {},
   "outputs": [],
   "source": [
    "# Agent foundation model name\n",
    "agent_foundation_model = \"anthropic.claude-3-5-sonnet-20240620-v1:0\""
   ]
  },
  {
   "cell_type": "code",
   "execution_count": 18,
   "metadata": {},
   "outputs": [],
   "source": [
    "# Create bedrock agent IAM policy\n",
    "agent_bedrock_allow_policy_name = \"ucai-bra-iam-policy-name\"\n",
    "\n",
    "# Create IAM policies for agent\n",
    "bedrock_agent_bedrock_allow_policy_statement = {\n",
    "    \"Version\": \"2012-10-17\",\n",
    "    \"Statement\": [\n",
    "        {\n",
    "            \"Sid\": \"AmazonBedrockAgentBedrockFoundationModelPolicy\",\n",
    "            \"Effect\": \"Allow\",\n",
    "            \"Action\": \"bedrock:InvokeModel\",\n",
    "            \"Resource\": [\n",
    "                f\"arn:aws:bedrock:{region}::foundation-model/{agent_foundation_model}\"\n",
    "            ]\n",
    "        }\n",
    "    ]\n",
    "}\n",
    "\n",
    "\n",
    "bedrock_policy_json = json.dumps(bedrock_agent_bedrock_allow_policy_statement)\n",
    "\n",
    "agent_bedrock_policy = iam_client.create_policy(\n",
    "    PolicyName=agent_bedrock_allow_policy_name,\n",
    "    PolicyDocument=bedrock_policy_json\n",
    ")"
   ]
  },
  {
   "cell_type": "code",
   "execution_count": null,
   "metadata": {},
   "outputs": [],
   "source": [
    "pprint.pprint(agent_bedrock_policy)"
   ]
  },
  {
   "cell_type": "code",
   "execution_count": null,
   "metadata": {},
   "outputs": [],
   "source": [
    "# Create IAM Role for the agent and attach IAM policies\n",
    "agent_role_name = \"ucai-bra-iam-role-name\"\n",
    "\n",
    "assume_role_policy_document = {\n",
    "    \"Version\": \"2012-10-17\",\n",
    "    \"Statement\": [{\n",
    "          \"Effect\": \"Allow\",\n",
    "          \"Principal\": {\n",
    "            \"Service\": \"bedrock.amazonaws.com\"\n",
    "          },\n",
    "          \"Action\": \"sts:AssumeRole\"\n",
    "    }]\n",
    "}\n",
    "\n",
    "assume_role_policy_document_json = json.dumps(assume_role_policy_document)\n",
    "agent_role = iam_client.create_role(\n",
    "    RoleName=agent_role_name,\n",
    "    AssumeRolePolicyDocument=assume_role_policy_document_json\n",
    ")\n",
    "\n",
    "# Pause to make sure role is created\n",
    "time.sleep(10)\n",
    "    \n",
    "iam_client.attach_role_policy(\n",
    "    RoleName=agent_role_name,\n",
    "    PolicyArn=agent_bedrock_policy['Policy']['Arn']\n",
    ")"
   ]
  },
  {
   "cell_type": "code",
   "execution_count": null,
   "metadata": {},
   "outputs": [],
   "source": [
    "pprint.pprint(agent_role)"
   ]
  },
  {
   "cell_type": "code",
   "execution_count": 101,
   "metadata": {},
   "outputs": [],
   "source": [
    "# Create bedrock agent \n",
    "\n",
    "agent_name = \"tbd-bra-name\"\n",
    "agent_description = \"tbd-bra-description\"\n",
    "agent_instruction = \"You are a weather agent to fetche the current weather in celsius for a given location\"\n",
    "\n",
    "bedrock_agent_client = boto3.client('bedrock-agent')\n",
    "#bedrock_agent_runtime_client = boto3.client('bedrock-agent-runtime')\n",
    "\n",
    "create_agent_response = bedrock_agent_client.create_agent(\n",
    "    agentName=agent_name,\n",
    "    agentResourceRoleArn=agent_role['Role']['Arn'],\n",
    "    description=agent_description,\n",
    "    idleSessionTTLInSeconds=1800,\n",
    "    foundationModel=agent_foundation_model,\n",
    "    instruction=agent_instruction,\n",
    ")\n"
   ]
  },
  {
   "cell_type": "code",
   "execution_count": null,
   "metadata": {},
   "outputs": [],
   "source": [
    "pprint.pprint(create_agent_response)"
   ]
  },
  {
   "cell_type": "code",
   "execution_count": null,
   "metadata": {},
   "outputs": [],
   "source": [
    "agent_id = create_agent_response['agent']['agentId']\n",
    "print(agent_id)"
   ]
  },
  {
   "cell_type": "code",
   "execution_count": 27,
   "metadata": {},
   "outputs": [],
   "source": [
    "# Sample weather function \n",
    "\n",
    "from datetime import datetime\n",
    "    \n",
    "def location_weather_in_c(location_id, fetch_date):\n",
    "    try:\n",
    "        # Fetch from Databricks SQL Warehouse based UC function execution \n",
    "        return \"23\"\n",
    "    except Exception as e:\n",
    "        raise Exception(f\"Error occurred: {e}\")"
   ]
  },
  {
   "cell_type": "code",
   "execution_count": 28,
   "metadata": {},
   "outputs": [],
   "source": [
    "agent_functions = [\n",
    "\n",
    "    {\n",
    "        'name': 'location_weather_in_c',\n",
    "        'description': 'Fetche the current weather in celsius for a given location',\n",
    "        'parameters': {\n",
    "            \"location_id\": {\n",
    "                \"description\": \"the id of the location\",\n",
    "                \"required\": True,\n",
    "                \"type\": \"integer\"\n",
    "            },\n",
    "            \"fetch_date\": {\n",
    "                \"description\": \"the date \",\n",
    "                \"required\": True,\n",
    "                \"type\": \"string\"\n",
    "            }\n",
    "        },\n",
    "        'requireConfirmation':'ENABLED'\n",
    "    },\n",
    "]"
   ]
  },
  {
   "cell_type": "code",
   "execution_count": null,
   "metadata": {},
   "outputs": [],
   "source": [
    "# Prepare agent group using function schema\n",
    "agent_action_group_name = \"tbd-bda-action-group-name\"\n",
    "agent_action_group_description = \"Actions to fetch the weather of a given location for a given date\"\n",
    "\n",
    "agent_action_group_response = bedrock_agent_client.create_agent_action_group(\n",
    "    agentId=agent_id,\n",
    "    agentVersion='DRAFT',\n",
    "    actionGroupExecutor={\n",
    "        'customControl': 'RETURN_CONTROL'\n",
    "    },\n",
    "    actionGroupName=agent_action_group_name,\n",
    "    functionSchema={\n",
    "        'functions': agent_functions\n",
    "    },\n",
    "    description=agent_action_group_description\n",
    ")\n",
    "\n",
    "response = bedrock_agent_client.prepare_agent(\n",
    "    agentId=agent_id\n",
    ")\n",
    "print(response)"
   ]
  },
  {
   "cell_type": "code",
   "execution_count": null,
   "metadata": {},
   "outputs": [],
   "source": [
    "pprint.pprint(response)"
   ]
  },
  {
   "cell_type": "code",
   "execution_count": 106,
   "metadata": {},
   "outputs": [],
   "source": [
    "# Invoke agent \n",
    "bedrock_agent_runtime_client = boto3.client('bedrock-agent-runtime')\n",
    "\n",
    "# Extract the agentAliasId from the response\n",
    "agent_alias_id = \"****\"\n",
    "\n",
    "## create a random id for session initiator id\n",
    "session_id:str = str(uuid.uuid1())\n",
    "enable_trace:bool = False\n",
    "end_session:bool = False\n",
    "# Pause to make sure agent alias is ready\n",
    "# time.sleep(30)\n",
    "\n",
    "# invoke the agent API\n",
    "agentResponse = bedrock_agent_runtime_client.invoke_agent(\n",
    "    inputText=\"What is the weather for location 1234 and date of 2024-11-19\",\n",
    "    agentId=agent_id,\n",
    "    agentAliasId=agent_alias_id, \n",
    "    sessionId=session_id,\n",
    "    enableTrace=enable_trace, \n",
    "    endSession= end_session\n",
    ")\n",
    "\n"
   ]
  },
  {
   "cell_type": "code",
   "execution_count": null,
   "metadata": {},
   "outputs": [],
   "source": [
    "event_stream = agentResponse['completion']\n",
    "\n",
    "for event in event_stream:\n",
    "    if 'returnControl' in event:\n",
    "        pprint.pp(event)\n",
    "        print(event[\"returnControl\"][\"invocationInputs\"][0][\"functionInvocationInput\"][\"function\"])"
   ]
  },
  {
   "cell_type": "code",
   "execution_count": null,
   "metadata": {},
   "outputs": [],
   "source": [
    "#Errors \n",
    "#EventStreamError: An error occurred (validationException) when calling the InvokeAgent operation: Invocation of model ID anthropic.claude-3-5-haiku-20241022-v1:0 with on-demand throughput isn’t supported. Retry your request with the ID or ARN of an inference profile that contains this model.\n",
    "# https://us-east-1.console.aws.amazon.com/servicequotas/home/services/bedrock/quotas\n",
    "## On-demand InvokeModel requests per minute for Anthropic"
   ]
  },
  {
   "cell_type": "code",
   "execution_count": null,
   "metadata": {},
   "outputs": [],
   "source": [
    "# Learnings \n",
    "# Enable the model in the AWS account \n",
    "# Create the alias and use the alias_id when invoking the agent \n"
   ]
  },
  {
   "cell_type": "code",
   "execution_count": null,
   "metadata": {},
   "outputs": [],
   "source": [
    "pprint.pp(event)"
   ]
  },
  {
   "cell_type": "code",
   "execution_count": null,
   "metadata": {},
   "outputs": [],
   "source": [
    "for invocationInput in event[\"returnControl\"][\"invocationInputs\"]:\n",
    "    function_to_call = invocationInput[\"functionInvocationInput\"][\"function\"]\n",
    "    pprint.pp(function_to_call)\n",
    "    #TODO \n",
    "    # Parse the parameters dynamically  "
   ]
  },
  {
   "cell_type": "code",
   "execution_count": 109,
   "metadata": {},
   "outputs": [],
   "source": [
    "uc_function_result = \"23\""
   ]
  },
  {
   "cell_type": "code",
   "execution_count": null,
   "metadata": {},
   "outputs": [],
   "source": [
    "# On-demand InvokeModel requests per minute for Anthropic Claude 3.5 Sonnet is \"1\"\n",
    "# Sleep for 70 seconds to invoke the agent \n",
    "\n",
    "time.sleep(70) "
   ]
  },
  {
   "cell_type": "code",
   "execution_count": 110,
   "metadata": {},
   "outputs": [],
   "source": [
    "raw_response_with_roc = bedrock_agent_runtime_client.invoke_agent(\n",
    "    agentId=agent_id,\n",
    "    agentAliasId=agent_alias_id, \n",
    "    sessionId=session_id,\n",
    "    enableTrace=enable_trace, \n",
    "    sessionState={\n",
    "        'invocationId': event[\"returnControl\"][\"invocationId\"],\n",
    "        'returnControlInvocationResults': [{\n",
    "                'functionResult': {\n",
    "                    'actionGroup': event[\"returnControl\"][\"invocationInputs\"][0][\"functionInvocationInput\"][\"actionGroup\"],\n",
    "                    'function': event[\"returnControl\"][\"invocationInputs\"][0][\"functionInvocationInput\"][\"function\"],\n",
    "                    'confirmationState': 'CONFIRM',\n",
    "                    'responseBody': {\n",
    "                        \"TEXT\": {\n",
    "                            'body': \"weather_in_centigrade: \"+str(uc_function_result)\n",
    "                        }\n",
    "                    }\n",
    "                }\n",
    "        }]}\n",
    ")\n",
    "\n",
    "#print(aw_response_with_roc)"
   ]
  },
  {
   "cell_type": "code",
   "execution_count": null,
   "metadata": {},
   "outputs": [],
   "source": [
    "pprint.pp(raw_response_with_roc)"
   ]
  },
  {
   "cell_type": "code",
   "execution_count": null,
   "metadata": {},
   "outputs": [],
   "source": [
    "event_stream3 = raw_response_with_roc['completion']\n",
    "\n",
    "for event in event_stream3:\n",
    "    pprint.pp(event)"
   ]
  }
 ],
 "metadata": {
  "kernelspec": {
   "display_name": ".venv",
   "language": "python",
   "name": "python3"
  },
  "language_info": {
   "codemirror_mode": {
    "name": "ipython",
    "version": 3
   },
   "file_extension": ".py",
   "mimetype": "text/x-python",
   "name": "python",
   "nbconvert_exporter": "python",
   "pygments_lexer": "ipython3",
   "version": "3.13.1"
  }
 },
 "nbformat": 4,
 "nbformat_minor": 2
}

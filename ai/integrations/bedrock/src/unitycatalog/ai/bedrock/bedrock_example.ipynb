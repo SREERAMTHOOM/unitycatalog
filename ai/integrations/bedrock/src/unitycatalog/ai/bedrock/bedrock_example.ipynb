{
 "cells": [
  {
   "cell_type": "markdown",
   "metadata": {},
   "source": [
    "# Notebook to test the Bedrock Agents and UC Functions."
   ]
  },
  {
   "cell_type": "code",
   "execution_count": 57,
   "metadata": {},
   "outputs": [
    {
     "name": "stdout",
     "output_type": "stream",
     "text": [
      "The autoreload extension is already loaded. To reload it, use:\n",
      "  %reload_ext autoreload\n"
     ]
    }
   ],
   "source": [
    "%load_ext autoreload\n",
    "%autoreload 2"
   ]
  },
  {
   "cell_type": "code",
   "execution_count": 58,
   "metadata": {},
   "outputs": [],
   "source": [
    " %reload_ext autoreload"
   ]
  },
  {
   "cell_type": "code",
   "execution_count": 59,
   "metadata": {},
   "outputs": [],
   "source": [
    "from unitycatalog.ai.core.client import UnitycatalogFunctionClient\n",
    "from unitycatalog.client import ApiClient, Configuration\n",
    "from unitycatalog.ai.bedrock.toolkit import UCFunctionToolkit\n"
   ]
  },
  {
   "cell_type": "code",
   "execution_count": 60,
   "metadata": {},
   "outputs": [],
   "source": [
    "config = Configuration()\n",
    "config.host = \"http://localhost:8080/api/2.1/unity-catalog\"\n",
    "\n",
    "# The base ApiClient is async\n",
    "api_client = ApiClient(configuration=config)\n",
    "\n",
    "client = UnitycatalogFunctionClient(api_client=api_client)\n",
    "\n",
    "CATALOG = \"AICatalog\"\n",
    "SCHEMA = \"AISchema\"\n"
   ]
  },
  {
   "cell_type": "code",
   "execution_count": 61,
   "metadata": {},
   "outputs": [],
   "source": [
    "# Sample function to get weather in celsius\n",
    "    \n",
    "def get_weather_in_celsius(location_id: str, fetch_date: str) -> str:\n",
    "    \"\"\"Test function for AWS Bedrock integration.\n",
    "\n",
    "    Args:\n",
    "        location_id (str): The name to be included in the greeting message.\n",
    "        fetch_date (str): The date with the location \n",
    "\n",
    "    Raises:\n",
    "        Exception: If there is an error during the function execution.\n",
    "\n",
    "    Returns:\n",
    "        str: Weather result.\n",
    "    \"\"\"\n",
    "    try:\n",
    "        # Fetch from Databricks SQL Warehouse based UC function execution \n",
    "        return \"23\"\n",
    "    except Exception as e:\n",
    "        raise Exception(f\"Error occurred: {e}\")"
   ]
  },
  {
   "cell_type": "code",
   "execution_count": 62,
   "metadata": {},
   "outputs": [
    {
     "data": {
      "text/plain": [
       "CatalogInfo(name='AICatalog', comment='Catalog for AI functions', properties={}, owner=None, created_at=1737005234233, created_by=None, updated_at=1737005234233, updated_by=None, id='7dc1e000-2854-46ac-9811-d140c1cb942e')"
      ]
     },
     "execution_count": 62,
     "metadata": {},
     "output_type": "execute_result"
    }
   ],
   "source": [
    "client.uc.create_catalog(name=CATALOG, comment=\"Catalog for AI functions\")"
   ]
  },
  {
   "cell_type": "code",
   "execution_count": 63,
   "metadata": {},
   "outputs": [
    {
     "data": {
      "text/plain": [
       "SchemaInfo(name='AISchema', catalog_name='AICatalog', comment='Schema for AI functions', properties={}, full_name='AICatalog.AISchema', owner=None, created_at=1737005278533, created_by=None, updated_at=1737005278533, updated_by=None, schema_id='c164dc56-8ee1-489c-9dad-19734bbcb0d7')"
      ]
     },
     "execution_count": 63,
     "metadata": {},
     "output_type": "execute_result"
    }
   ],
   "source": [
    "client.uc.create_schema(catalog_name=CATALOG, name=SCHEMA, comment=\"Schema for AI functions\")"
   ]
  },
  {
   "cell_type": "code",
   "execution_count": 64,
   "metadata": {},
   "outputs": [
    {
     "data": {
      "text/plain": [
       "FunctionInfo(name='get_weather_in_celsius', catalog_name='AICatalog', schema_name='AISchema', input_params=FunctionParameterInfos(parameters=[FunctionParameterInfo(name='location_id', type_text='STRING', type_json='{\"name\": \"location_id\", \"type\": \"string\", \"nullable\": false, \"metadata\": {\"comment\": \"The name to be included in the greeting message.\"}}', type_name=<ColumnTypeName.STRING: 'STRING'>, type_precision=None, type_scale=None, type_interval_type=None, position=0, parameter_mode=None, parameter_type=None, parameter_default=None, comment='The name to be included in the greeting message.'), FunctionParameterInfo(name='fetch_date', type_text='STRING', type_json='{\"name\": \"fetch_date\", \"type\": \"string\", \"nullable\": false, \"metadata\": {\"comment\": \"The date with the location\"}}', type_name=<ColumnTypeName.STRING: 'STRING'>, type_precision=None, type_scale=None, type_interval_type=None, position=1, parameter_mode=None, parameter_type=None, parameter_default=None, comment='The date with the location')]), data_type=<ColumnTypeName.STRING: 'STRING'>, full_data_type='STRING', return_params=None, routine_body='EXTERNAL', routine_definition='try:\\n    # Fetch from Databricks SQL Warehouse based UC function execution \\n    return \"23\"\\nexcept Exception as e:\\n    raise Exception(f\"Error occurred: {e}\")', routine_dependencies=None, parameter_style='S', is_deterministic=True, sql_data_access='NO_SQL', is_null_call=False, security_type='DEFINER', specific_name='get_weather_in_celsius', comment='Test function for AWS Bedrock integration.', properties='null', full_name='AICatalog.AISchema.get_weather_in_celsius', owner=None, created_at=1738941294337, created_by=None, updated_at=1738941294337, updated_by=None, function_id='3af298d4-992a-42a2-9691-6272c8f70727', external_language='PYTHON')"
      ]
     },
     "execution_count": 64,
     "metadata": {},
     "output_type": "execute_result"
    }
   ],
   "source": [
    "client.create_python_function(\n",
    "    func=get_weather_in_celsius, \n",
    "    catalog=CATALOG, \n",
    "    schema=SCHEMA, \n",
    "    replace=True)"
   ]
  },
  {
   "cell_type": "markdown",
   "metadata": {},
   "source": [
    "## Check if UC function exists"
   ]
  },
  {
   "cell_type": "code",
   "execution_count": 65,
   "metadata": {},
   "outputs": [],
   "source": [
    "function_name = f\"{CATALOG}.{SCHEMA}.get_weather_in_celsius\""
   ]
  },
  {
   "cell_type": "code",
   "execution_count": 66,
   "metadata": {},
   "outputs": [
    {
     "name": "stdout",
     "output_type": "stream",
     "text": [
      "name='get_weather_in_celsius' catalog_name='AICatalog' schema_name='AISchema' input_params=FunctionParameterInfos(parameters=[FunctionParameterInfo(name='location_id', type_text='STRING', type_json='{\"name\": \"location_id\", \"type\": \"string\", \"nullable\": false, \"metadata\": {\"comment\": \"The name to be included in the greeting message.\"}}', type_name=<ColumnTypeName.STRING: 'STRING'>, type_precision=None, type_scale=None, type_interval_type=None, position=0, parameter_mode=None, parameter_type=None, parameter_default=None, comment='The name to be included in the greeting message.'), FunctionParameterInfo(name='fetch_date', type_text='STRING', type_json='{\"name\": \"fetch_date\", \"type\": \"string\", \"nullable\": false, \"metadata\": {\"comment\": \"The date with the location\"}}', type_name=<ColumnTypeName.STRING: 'STRING'>, type_precision=None, type_scale=None, type_interval_type=None, position=1, parameter_mode=None, parameter_type=None, parameter_default=None, comment='The date with the location')]) data_type=<ColumnTypeName.STRING: 'STRING'> full_data_type='STRING' return_params=None routine_body='EXTERNAL' routine_definition='try:\\n    # Fetch from Databricks SQL Warehouse based UC function execution \\n    return \"23\"\\nexcept Exception as e:\\n    raise Exception(f\"Error occurred: {e}\")' routine_dependencies=None parameter_style='S' is_deterministic=True sql_data_access='NO_SQL' is_null_call=False security_type='DEFINER' specific_name='get_weather_in_celsius' comment='Test function for AWS Bedrock integration.' properties=None full_name='AICatalog.AISchema.get_weather_in_celsius' owner=None created_at=1738941294337 created_by=None updated_at=1738941294337 updated_by=None function_id='3af298d4-992a-42a2-9691-6272c8f70727' external_language='PYTHON'\n"
     ]
    }
   ],
   "source": [
    "try:\n",
    "    print(client.get_function(function_name))\n",
    "except Exception as e:\n",
    "    print(f\"Function {function_name} does not exist, creating it...\")"
   ]
  },
  {
   "cell_type": "code",
   "execution_count": 67,
   "metadata": {},
   "outputs": [],
   "source": [
    "function_name = f\"{CATALOG}.{SCHEMA}.get_weather_in_celsius\"\n",
    "toolkit = UCFunctionToolkit(function_names=[function_name], client=client)"
   ]
  },
  {
   "cell_type": "code",
   "execution_count": 68,
   "metadata": {},
   "outputs": [
    {
     "name": "stdout",
     "output_type": "stream",
     "text": [
      "name='get_weather_in_celsius' catalog_name='AICatalog' schema_name='AISchema' input_params=FunctionParameterInfos(parameters=[FunctionParameterInfo(name='location_id', type_text='STRING', type_json='{\"name\": \"location_id\", \"type\": \"string\", \"nullable\": false, \"metadata\": {\"comment\": \"The name to be included in the greeting message.\"}}', type_name=<ColumnTypeName.STRING: 'STRING'>, type_precision=None, type_scale=None, type_interval_type=None, position=0, parameter_mode=None, parameter_type=None, parameter_default=None, comment='The name to be included in the greeting message.'), FunctionParameterInfo(name='fetch_date', type_text='STRING', type_json='{\"name\": \"fetch_date\", \"type\": \"string\", \"nullable\": false, \"metadata\": {\"comment\": \"The date with the location\"}}', type_name=<ColumnTypeName.STRING: 'STRING'>, type_precision=None, type_scale=None, type_interval_type=None, position=1, parameter_mode=None, parameter_type=None, parameter_default=None, comment='The date with the location')]) data_type=<ColumnTypeName.STRING: 'STRING'> full_data_type='STRING' return_params=None routine_body='EXTERNAL' routine_definition='try:\\n    # Fetch from Databricks SQL Warehouse based UC function execution \\n    return \"23\"\\nexcept Exception as e:\\n    raise Exception(f\"Error occurred: {e}\")' routine_dependencies=None parameter_style='S' is_deterministic=True sql_data_access='NO_SQL' is_null_call=False security_type='DEFINER' specific_name='get_weather_in_celsius' comment='Test function for AWS Bedrock integration.' properties=None full_name='AICatalog.AISchema.get_weather_in_celsius' owner=None created_at=1738941294337 created_by=None updated_at=1738941294337 updated_by=None function_id='3af298d4-992a-42a2-9691-6272c8f70727' external_language='PYTHON'\n"
     ]
    }
   ],
   "source": [
    "print(toolkit.client.get_function(function_name))"
   ]
  },
  {
   "cell_type": "markdown",
   "metadata": {},
   "source": [
    "# Adding Bedrock SDK calls \n"
   ]
  },
  {
   "cell_type": "code",
   "execution_count": 69,
   "metadata": {},
   "outputs": [],
   "source": [
    "import boto3, pprint, json, time, uuid"
   ]
  },
  {
   "cell_type": "code",
   "execution_count": 70,
   "metadata": {},
   "outputs": [],
   "source": [
    "#boto3.setup_default_session()"
   ]
  },
  {
   "cell_type": "code",
   "execution_count": 71,
   "metadata": {},
   "outputs": [],
   "source": [
    "agent_id = \"HXPGL1POGD\"\n",
    "agent_alias_id = \"4TL4EPM5HT\""
   ]
  },
  {
   "cell_type": "code",
   "execution_count": 72,
   "metadata": {},
   "outputs": [
    {
     "name": "stdout",
     "output_type": "stream",
     "text": [
      "Initialized BedrockSession with agent_id: HXPGL1POGD, agent_alias_id: 4TL4EPM5HT, catalog_name: AICatalog schema_name: AISchema, function_name: AICatalog.AISchema.get_weather_in_celsius\n"
     ]
    }
   ],
   "source": [
    "# Bedrock agent configuration\n",
    "session = toolkit.create_session(agent_id=agent_id,\n",
    "                                agent_alias_id=agent_alias_id,\n",
    "                                catalog_name=CATALOG,\n",
    "                                schema_name=SCHEMA,\n",
    "                                function_name=\"get_weather_in_celsius\"\n",
    "                                )\n",
    "# Generate unique session ID\n",
    "session_id = str(uuid.uuid1())"
   ]
  },
  {
   "cell_type": "code",
   "execution_count": 73,
   "metadata": {},
   "outputs": [
    {
     "data": {
      "text/plain": [
       "FunctionInfo(name='get_weather_in_celsius', catalog_name='AICatalog', schema_name='AISchema', input_params=FunctionParameterInfos(parameters=[FunctionParameterInfo(name='location_id', type_text='STRING', type_json='{\"name\": \"location_id\", \"type\": \"string\", \"nullable\": false, \"metadata\": {\"comment\": \"The name to be included in the greeting message.\"}}', type_name=<ColumnTypeName.STRING: 'STRING'>, type_precision=None, type_scale=None, type_interval_type=None, position=0, parameter_mode=None, parameter_type=None, parameter_default=None, comment='The name to be included in the greeting message.'), FunctionParameterInfo(name='fetch_date', type_text='STRING', type_json='{\"name\": \"fetch_date\", \"type\": \"string\", \"nullable\": false, \"metadata\": {\"comment\": \"The date with the location\"}}', type_name=<ColumnTypeName.STRING: 'STRING'>, type_precision=None, type_scale=None, type_interval_type=None, position=1, parameter_mode=None, parameter_type=None, parameter_default=None, comment='The date with the location')]), data_type=<ColumnTypeName.STRING: 'STRING'>, full_data_type='STRING', return_params=None, routine_body='EXTERNAL', routine_definition='try:\\n    # Fetch from Databricks SQL Warehouse based UC function execution \\n    return \"23\"\\nexcept Exception as e:\\n    raise Exception(f\"Error occurred: {e}\")', routine_dependencies=None, parameter_style='S', is_deterministic=True, sql_data_access='NO_SQL', is_null_call=False, security_type='DEFINER', specific_name='get_weather_in_celsius', comment='Test function for AWS Bedrock integration.', properties=None, full_name='AICatalog.AISchema.get_weather_in_celsius', owner=None, created_at=1738941294337, created_by=None, updated_at=1738941294337, updated_by=None, function_id='3af298d4-992a-42a2-9691-6272c8f70727', external_language='PYTHON')"
      ]
     },
     "execution_count": 73,
     "metadata": {},
     "output_type": "execute_result"
    }
   ],
   "source": [
    "client.get_function(f\"{CATALOG}.{SCHEMA}.get_weather_in_celsius\")"
   ]
  },
  {
   "cell_type": "code",
   "execution_count": 74,
   "metadata": {},
   "outputs": [
    {
     "name": "stdout",
     "output_type": "stream",
     "text": [
      "Response from invoke agent: {'ResponseMetadata': {'RequestId': '3d96ca36-fc16-4ad4-a44a-9ff6d738ed73', 'HTTPStatusCode': 200, 'HTTPHeaders': {'date': 'Fri, 07 Feb 2025 15:15:00 GMT', 'content-type': 'application/vnd.amazon.eventstream', 'transfer-encoding': 'chunked', 'connection': 'keep-alive', 'x-amzn-requestid': '3d96ca36-fc16-4ad4-a44a-9ff6d738ed73', 'x-amz-bedrock-agent-session-id': '491457d6-e566-11ef-abf1-4e3e215d14d1', 'x-amzn-bedrock-agent-content-type': 'application/json'}, 'RetryAttempts': 0}, 'contentType': 'application/json', 'sessionId': '491457d6-e566-11ef-abf1-4e3e215d14d1', 'completion': <botocore.eventstream.EventStream object at 0x113998110>}\n",
      "Tool Call Results: [{'function_name': 'uc-ai-bedrock-action-group-name__get_weather_in_celsius', 'parameters': {'fetch_date': '2024-11-19', 'location_id': '1234'}, 'invocation_id': 'e6043222-0efc-4d22-9113-ecb2dbd57067-uc-result'}]\n",
      "Full Function Name: AICatalog.AISchema.AICatalog.AISchema.get_weather_in_celsius\n",
      "Error executing tool call for {'function_name': 'uc-ai-bedrock-action-group-name__get_weather_in_celsius', 'parameters': {'fetch_date': '2024-11-19', 'location_id': '1234'}, 'invocation_id': 'e6043222-0efc-4d22-9113-ecb2dbd57067-uc-result'}: (500)\n",
      "Reason: Internal Server Error\n",
      "HTTP response headers: <CIMultiDictProxy('Content-Type': 'application/json', 'Content-Length': '4933', 'Server': 'Armeria/1.28.4', 'Date': 'Fri, 7 Feb 2025 15:15:04 GMT')>\n",
      "HTTP response body: {\"error_code\":\"INTERNAL\",\"details\":[{\"reason\":\"INTERNAL\",\"metadata\":{},\"@type\":\"google.rpc.ErrorInfo\"}],\"stack_trace\":\"[java.base/java.util.Objects.requireNonNull(Objects.java:235), com.linecorp.armeria.common.HttpResponse.ofJson(HttpResponse.java:661), com.linecorp.armeria.common.HttpResponse.ofJson(HttpResponse.java:618), com.linecorp.armeria.common.HttpResponse.ofJson(HttpResponse.java:603), io.unitycatalog.server.service.FunctionService.getFunction(FunctionService.java:99), com.linecorp.armeria.internal.server.annotation.AnnotatedService.invoke(AnnotatedService.java:382), com.linecorp.armeria.internal.server.annotation.AnnotatedService.serve0(AnnotatedService.java:296), com.linecorp.armeria.internal.server.annotation.AnnotatedService.serve(AnnotatedService.java:272), com.linecorp.armeria.internal.server.annotation.AnnotatedService.serve(AnnotatedService.java:78), com.linecorp.armeria.internal.server.annotation.AnnotatedService$ExceptionHandlingHttpService.serve(AnnotatedService.java:536), com.linecorp.armeria.server.HttpServerHandler.serve0(HttpServerHandler.java:463), com.linecorp.armeria.server.HttpServerHandler.handleRequest(HttpServerHandler.java:398), com.linecorp.armeria.server.HttpServerHandler.channelRead(HttpServerHandler.java:281), io.netty.channel.AbstractChannelHandlerContext.invokeChannelRead(AbstractChannelHandlerContext.java:444), io.netty.channel.AbstractChannelHandlerContext.invokeChannelRead(AbstractChannelHandlerContext.java:420), io.netty.channel.AbstractChannelHandlerContext.fireChannelRead(AbstractChannelHandlerContext.java:412), com.linecorp.armeria.server.Http1RequestDecoder.channelRead(Http1RequestDecoder.java:282), io.netty.channel.AbstractChannelHandlerContext.invokeChannelRead(AbstractChannelHandlerContext.java:442), io.netty.channel.AbstractChannelHandlerContext.invokeChannelRead(AbstractChannelHandlerContext.java:420), io.netty.channel.AbstractChannelHandlerContext.fireChannelRead(AbstractChannelHandlerContext.java:412), com.linecorp.armeria.server.HttpServerUpgradeHandler.channelRead(HttpServerUpgradeHandler.java:227), io.netty.channel.AbstractChannelHandlerContext.invokeChannelRead(AbstractChannelHandlerContext.java:444), io.netty.channel.AbstractChannelHandlerContext.invokeChannelRead(AbstractChannelHandlerContext.java:420), io.netty.channel.AbstractChannelHandlerContext.fireChannelRead(AbstractChannelHandlerContext.java:412), io.netty.channel.CombinedChannelDuplexHandler$DelegatingChannelHandlerContext.fireChannelRead(CombinedChannelDuplexHandler.java:436), io.netty.handler.codec.ByteToMessageDecoder.fireChannelRead(ByteToMessageDecoder.java:346), io.netty.handler.codec.ByteToMessageDecoder.channelRead(ByteToMessageDecoder.java:318), io.netty.channel.CombinedChannelDuplexHandler.channelRead(CombinedChannelDuplexHandler.java:251), io.netty.channel.AbstractChannelHandlerContext.invokeChannelRead(AbstractChannelHandlerContext.java:442), io.netty.channel.AbstractChannelHandlerContext.invokeChannelRead(AbstractChannelHandlerContext.java:420), io.netty.channel.AbstractChannelHandlerContext.fireChannelRead(AbstractChannelHandlerContext.java:412), io.netty.handler.logging.LoggingHandler.channelRead(LoggingHandler.java:280), io.netty.channel.AbstractChannelHandlerContext.invokeChannelRead(AbstractChannelHandlerContext.java:442), io.netty.channel.AbstractChannelHandlerContext.invokeChannelRead(AbstractChannelHandlerContext.java:420), io.netty.channel.AbstractChannelHandlerContext.fireChannelRead(AbstractChannelHandlerContext.java:412), io.netty.handler.flush.FlushConsolidationHandler.channelRead(FlushConsolidationHandler.java:152), io.netty.channel.AbstractChannelHandlerContext.invokeChannelRead(AbstractChannelHandlerContext.java:442), io.netty.channel.AbstractChannelHandlerContext.invokeChannelRead(AbstractChannelHandlerContext.java:420), io.netty.channel.AbstractChannelHandlerContext.fireChannelRead(AbstractChannelHandlerContext.java:412), io.netty.channel.DefaultChannelPipeline$HeadContext.channelRead(DefaultChannelPipeline.java:1407), io.netty.channel.AbstractChannelHandlerContext.invokeChannelRead(AbstractChannelHandlerContext.java:440), io.netty.channel.AbstractChannelHandlerContext.invokeChannelRead(AbstractChannelHandlerContext.java:420), io.netty.channel.DefaultChannelPipeline.fireChannelRead(DefaultChannelPipeline.java:918), io.netty.channel.epoll.AbstractEpollStreamChannel$EpollStreamUnsafe.epollInReady(AbstractEpollStreamChannel.java:799), io.netty.channel.epoll.EpollEventLoop.processReady(EpollEventLoop.java:501), io.netty.channel.epoll.EpollEventLoop.run(EpollEventLoop.java:399), io.netty.util.concurrent.SingleThreadEventExecutor$4.run(SingleThreadEventExecutor.java:994), io.netty.util.internal.ThreadExecutorMap$2.run(ThreadExecutorMap.java:74), io.netty.util.concurrent.FastThreadLocalRunnable.run(FastThreadLocalRunnable.java:30), java.base/java.lang.Thread.run(Thread.java:840)]\",\"message\":\"content\"}\n",
      "\n",
      "ToolResults: [{'invocation_id': 'e6043222-0efc-4d22-9113-ecb2dbd57067-uc-result', 'error': '(500)\\nReason: Internal Server Error\\nHTTP response headers: <CIMultiDictProxy(\\'Content-Type\\': \\'application/json\\', \\'Content-Length\\': \\'4933\\', \\'Server\\': \\'Armeria/1.28.4\\', \\'Date\\': \\'Fri, 7 Feb 2025 15:15:04 GMT\\')>\\nHTTP response body: {\"error_code\":\"INTERNAL\",\"details\":[{\"reason\":\"INTERNAL\",\"metadata\":{},\"@type\":\"google.rpc.ErrorInfo\"}],\"stack_trace\":\"[java.base/java.util.Objects.requireNonNull(Objects.java:235), com.linecorp.armeria.common.HttpResponse.ofJson(HttpResponse.java:661), com.linecorp.armeria.common.HttpResponse.ofJson(HttpResponse.java:618), com.linecorp.armeria.common.HttpResponse.ofJson(HttpResponse.java:603), io.unitycatalog.server.service.FunctionService.getFunction(FunctionService.java:99), com.linecorp.armeria.internal.server.annotation.AnnotatedService.invoke(AnnotatedService.java:382), com.linecorp.armeria.internal.server.annotation.AnnotatedService.serve0(AnnotatedService.java:296), com.linecorp.armeria.internal.server.annotation.AnnotatedService.serve(AnnotatedService.java:272), com.linecorp.armeria.internal.server.annotation.AnnotatedService.serve(AnnotatedService.java:78), com.linecorp.armeria.internal.server.annotation.AnnotatedService$ExceptionHandlingHttpService.serve(AnnotatedService.java:536), com.linecorp.armeria.server.HttpServerHandler.serve0(HttpServerHandler.java:463), com.linecorp.armeria.server.HttpServerHandler.handleRequest(HttpServerHandler.java:398), com.linecorp.armeria.server.HttpServerHandler.channelRead(HttpServerHandler.java:281), io.netty.channel.AbstractChannelHandlerContext.invokeChannelRead(AbstractChannelHandlerContext.java:444), io.netty.channel.AbstractChannelHandlerContext.invokeChannelRead(AbstractChannelHandlerContext.java:420), io.netty.channel.AbstractChannelHandlerContext.fireChannelRead(AbstractChannelHandlerContext.java:412), com.linecorp.armeria.server.Http1RequestDecoder.channelRead(Http1RequestDecoder.java:282), io.netty.channel.AbstractChannelHandlerContext.invokeChannelRead(AbstractChannelHandlerContext.java:442), io.netty.channel.AbstractChannelHandlerContext.invokeChannelRead(AbstractChannelHandlerContext.java:420), io.netty.channel.AbstractChannelHandlerContext.fireChannelRead(AbstractChannelHandlerContext.java:412), com.linecorp.armeria.server.HttpServerUpgradeHandler.channelRead(HttpServerUpgradeHandler.java:227), io.netty.channel.AbstractChannelHandlerContext.invokeChannelRead(AbstractChannelHandlerContext.java:444), io.netty.channel.AbstractChannelHandlerContext.invokeChannelRead(AbstractChannelHandlerContext.java:420), io.netty.channel.AbstractChannelHandlerContext.fireChannelRead(AbstractChannelHandlerContext.java:412), io.netty.channel.CombinedChannelDuplexHandler$DelegatingChannelHandlerContext.fireChannelRead(CombinedChannelDuplexHandler.java:436), io.netty.handler.codec.ByteToMessageDecoder.fireChannelRead(ByteToMessageDecoder.java:346), io.netty.handler.codec.ByteToMessageDecoder.channelRead(ByteToMessageDecoder.java:318), io.netty.channel.CombinedChannelDuplexHandler.channelRead(CombinedChannelDuplexHandler.java:251), io.netty.channel.AbstractChannelHandlerContext.invokeChannelRead(AbstractChannelHandlerContext.java:442), io.netty.channel.AbstractChannelHandlerContext.invokeChannelRead(AbstractChannelHandlerContext.java:420), io.netty.channel.AbstractChannelHandlerContext.fireChannelRead(AbstractChannelHandlerContext.java:412), io.netty.handler.logging.LoggingHandler.channelRead(LoggingHandler.java:280), io.netty.channel.AbstractChannelHandlerContext.invokeChannelRead(AbstractChannelHandlerContext.java:442), io.netty.channel.AbstractChannelHandlerContext.invokeChannelRead(AbstractChannelHandlerContext.java:420), io.netty.channel.AbstractChannelHandlerContext.fireChannelRead(AbstractChannelHandlerContext.java:412), io.netty.handler.flush.FlushConsolidationHandler.channelRead(FlushConsolidationHandler.java:152), io.netty.channel.AbstractChannelHandlerContext.invokeChannelRead(AbstractChannelHandlerContext.java:442), io.netty.channel.AbstractChannelHandlerContext.invokeChannelRead(AbstractChannelHandlerContext.java:420), io.netty.channel.AbstractChannelHandlerContext.fireChannelRead(AbstractChannelHandlerContext.java:412), io.netty.channel.DefaultChannelPipeline$HeadContext.channelRead(DefaultChannelPipeline.java:1407), io.netty.channel.AbstractChannelHandlerContext.invokeChannelRead(AbstractChannelHandlerContext.java:440), io.netty.channel.AbstractChannelHandlerContext.invokeChannelRead(AbstractChannelHandlerContext.java:420), io.netty.channel.DefaultChannelPipeline.fireChannelRead(DefaultChannelPipeline.java:918), io.netty.channel.epoll.AbstractEpollStreamChannel$EpollStreamUnsafe.epollInReady(AbstractEpollStreamChannel.java:799), io.netty.channel.epoll.EpollEventLoop.processReady(EpollEventLoop.java:501), io.netty.channel.epoll.EpollEventLoop.run(EpollEventLoop.java:399), io.netty.util.concurrent.SingleThreadEventExecutor$4.run(SingleThreadEventExecutor.java:994), io.netty.util.internal.ThreadExecutorMap$2.run(ThreadExecutorMap.java:74), io.netty.util.concurrent.FastThreadLocalRunnable.run(FastThreadLocalRunnable.java:30), java.base/java.lang.Thread.run(Thread.java:840)]\",\"message\":\"content\"}\\n'}]\n"
     ]
    },
    {
     "ename": "KeyError",
     "evalue": "'result'",
     "output_type": "error",
     "traceback": [
      "\u001b[0;31m---------------------------------------------------------------------------\u001b[0m",
      "\u001b[0;31mKeyError\u001b[0m                                  Traceback (most recent call last)",
      "Cell \u001b[0;32mIn[74], line 1\u001b[0m\n\u001b[0;32m----> 1\u001b[0m response \u001b[38;5;241m=\u001b[39m \u001b[43msession\u001b[49m\u001b[38;5;241;43m.\u001b[39;49m\u001b[43minvoke_agent\u001b[49m\u001b[43m(\u001b[49m\n\u001b[1;32m      2\u001b[0m \u001b[43m                \u001b[49m\u001b[43minput_text\u001b[49m\u001b[38;5;241;43m=\u001b[39;49m\u001b[38;5;124;43m\"\u001b[39;49m\u001b[38;5;124;43mWhat is the weather for location 1234 and date of 2024-11-19\u001b[39;49m\u001b[38;5;124;43m\"\u001b[39;49m\u001b[43m,\u001b[49m\n\u001b[1;32m      3\u001b[0m \u001b[43m                \u001b[49m\u001b[43menable_trace\u001b[49m\u001b[38;5;241;43m=\u001b[39;49m\u001b[38;5;28;43;01mTrue\u001b[39;49;00m\u001b[43m,\u001b[49m\n\u001b[1;32m      4\u001b[0m \u001b[43m                \u001b[49m\u001b[43msession_id\u001b[49m\u001b[38;5;241;43m=\u001b[39;49m\u001b[43msession_id\u001b[49m\u001b[43m,\u001b[49m\n\u001b[1;32m      5\u001b[0m \u001b[43m                \u001b[49m\u001b[43muc_client\u001b[49m\u001b[43m \u001b[49m\u001b[38;5;241;43m=\u001b[39;49m\u001b[43m \u001b[49m\u001b[43mtoolkit\u001b[49m\u001b[38;5;241;43m.\u001b[39;49m\u001b[43mclient\u001b[49m\n\u001b[1;32m      6\u001b[0m \u001b[43m                \u001b[49m\u001b[43m)\u001b[49m\n",
      "File \u001b[0;32m~/Documents/Dev/unitycatalog/ai/integrations/bedrock/src/unitycatalog/ai/bedrock/toolkit.py:121\u001b[0m, in \u001b[0;36mBedrockSession.invoke_agent\u001b[0;34m(self, input_text, enable_trace, session_id, session_state, uc_client)\u001b[0m\n\u001b[1;32m    119\u001b[0m \u001b[38;5;28mprint\u001b[39m(\u001b[38;5;124mf\u001b[39m\u001b[38;5;124m\"\u001b[39m\u001b[38;5;124mToolResults: \u001b[39m\u001b[38;5;132;01m{\u001b[39;00mtool_results\u001b[38;5;132;01m}\u001b[39;00m\u001b[38;5;124m\"\u001b[39m) \u001b[38;5;66;03m#Debugging\u001b[39;00m\n\u001b[1;32m    120\u001b[0m \u001b[38;5;28;01mif\u001b[39;00m tool_results:\n\u001b[0;32m--> 121\u001b[0m     session_state \u001b[38;5;241m=\u001b[39m \u001b[43mgenerate_tool_call_session_state\u001b[49m\u001b[43m(\u001b[49m\n\u001b[1;32m    122\u001b[0m \u001b[43m        \u001b[49m\u001b[43mtool_results\u001b[49m\u001b[43m[\u001b[49m\u001b[38;5;241;43m0\u001b[39;49m\u001b[43m]\u001b[49m\u001b[43m,\u001b[49m\u001b[43m \u001b[49m\u001b[43mtool_calls\u001b[49m\u001b[43m[\u001b[49m\u001b[38;5;241;43m0\u001b[39;49m\u001b[43m]\u001b[49m\u001b[43m)\u001b[49m\n\u001b[1;32m    123\u001b[0m     \u001b[38;5;28mprint\u001b[39m(\u001b[38;5;124mf\u001b[39m\u001b[38;5;124m\"\u001b[39m\u001b[38;5;124mSessionState: \u001b[39m\u001b[38;5;132;01m{\u001b[39;00msession_state\u001b[38;5;132;01m}\u001b[39;00m\u001b[38;5;124m\"\u001b[39m) \u001b[38;5;66;03m#Debugging\u001b[39;00m\n\u001b[1;32m    125\u001b[0m     \u001b[38;5;28;01mif\u001b[39;00m \u001b[38;5;124m'\u001b[39m\u001b[38;5;124mreturnControlInvocationResults\u001b[39m\u001b[38;5;124m'\u001b[39m \u001b[38;5;129;01min\u001b[39;00m session_state:\n\u001b[1;32m    126\u001b[0m         \u001b[38;5;66;03m# Final result obtained; return without re-invoking the agent.\u001b[39;00m\n",
      "File \u001b[0;32m~/Documents/Dev/unitycatalog/ai/integrations/bedrock/src/unitycatalog/ai/bedrock/utils.py:68\u001b[0m, in \u001b[0;36mgenerate_tool_call_session_state\u001b[0;34m(tool_result, tool_call)\u001b[0m\n\u001b[1;32m     57\u001b[0m \u001b[38;5;250m\u001b[39m\u001b[38;5;124;03m\"\"\"Generate session state for tool call results.\"\"\"\u001b[39;00m\n\u001b[1;32m     58\u001b[0m action_group, function \u001b[38;5;241m=\u001b[39m tool_call[\u001b[38;5;124m'\u001b[39m\u001b[38;5;124mfunction_name\u001b[39m\u001b[38;5;124m'\u001b[39m]\u001b[38;5;241m.\u001b[39msplit(\u001b[38;5;124m'\u001b[39m\u001b[38;5;124m__\u001b[39m\u001b[38;5;124m'\u001b[39m)\n\u001b[1;32m     59\u001b[0m \u001b[38;5;28;01mreturn\u001b[39;00m {\n\u001b[1;32m     60\u001b[0m     \u001b[38;5;124m'\u001b[39m\u001b[38;5;124minvocationId\u001b[39m\u001b[38;5;124m'\u001b[39m: tool_result[\u001b[38;5;124m'\u001b[39m\u001b[38;5;124minvocation_id\u001b[39m\u001b[38;5;124m'\u001b[39m],\n\u001b[1;32m     61\u001b[0m     \u001b[38;5;124m'\u001b[39m\u001b[38;5;124mreturnControlInvocationResults\u001b[39m\u001b[38;5;124m'\u001b[39m: [{\n\u001b[1;32m     62\u001b[0m         \u001b[38;5;124m'\u001b[39m\u001b[38;5;124mfunctionResult\u001b[39m\u001b[38;5;124m'\u001b[39m: {\n\u001b[1;32m     63\u001b[0m             \u001b[38;5;124m'\u001b[39m\u001b[38;5;124mactionGroup\u001b[39m\u001b[38;5;124m'\u001b[39m: action_group,\n\u001b[1;32m     64\u001b[0m             \u001b[38;5;124m'\u001b[39m\u001b[38;5;124mfunction\u001b[39m\u001b[38;5;124m'\u001b[39m: function,\n\u001b[1;32m     65\u001b[0m             \u001b[38;5;124m'\u001b[39m\u001b[38;5;124mconfirmationState\u001b[39m\u001b[38;5;124m'\u001b[39m: \u001b[38;5;124m'\u001b[39m\u001b[38;5;124mCONFIRM\u001b[39m\u001b[38;5;124m'\u001b[39m,\n\u001b[1;32m     66\u001b[0m             \u001b[38;5;124m'\u001b[39m\u001b[38;5;124mresponseBody\u001b[39m\u001b[38;5;124m'\u001b[39m: {\n\u001b[1;32m     67\u001b[0m                 \u001b[38;5;124m'\u001b[39m\u001b[38;5;124mTEXT\u001b[39m\u001b[38;5;124m'\u001b[39m: {\n\u001b[0;32m---> 68\u001b[0m                     \u001b[38;5;124m'\u001b[39m\u001b[38;5;124mbody\u001b[39m\u001b[38;5;124m'\u001b[39m: \u001b[43mtool_result\u001b[49m\u001b[43m[\u001b[49m\u001b[38;5;124;43m'\u001b[39;49m\u001b[38;5;124;43mresult\u001b[39;49m\u001b[38;5;124;43m'\u001b[39;49m\u001b[43m]\u001b[49m\n\u001b[1;32m     69\u001b[0m                 }\n\u001b[1;32m     70\u001b[0m             }\n\u001b[1;32m     71\u001b[0m         }\n\u001b[1;32m     72\u001b[0m     }]\n\u001b[1;32m     73\u001b[0m }\n",
      "\u001b[0;31mKeyError\u001b[0m: 'result'"
     ]
    }
   ],
   "source": [
    "response = session.invoke_agent(\n",
    "                input_text=\"What is the weather for location 1234 and date of 2024-11-19\",\n",
    "                enable_trace=True,\n",
    "                session_id=session_id,\n",
    "                uc_client = toolkit.client\n",
    "                )"
   ]
  },
  {
   "cell_type": "code",
   "execution_count": null,
   "metadata": {},
   "outputs": [],
   "source": [
    "import pprint \n",
    "pprint.pp(response.response_body)"
   ]
  }
 ],
 "metadata": {
  "kernelspec": {
   "display_name": ".venv",
   "language": "python",
   "name": "python3"
  },
  "language_info": {
   "codemirror_mode": {
    "name": "ipython",
    "version": 3
   },
   "file_extension": ".py",
   "mimetype": "text/x-python",
   "name": "python",
   "nbconvert_exporter": "python",
   "pygments_lexer": "ipython3",
   "version": "3.12.7"
  }
 },
 "nbformat": 4,
 "nbformat_minor": 2
}

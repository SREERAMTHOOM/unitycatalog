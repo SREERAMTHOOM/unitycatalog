{
 "cells": [
  {
   "cell_type": "markdown",
   "metadata": {},
   "source": [
    "# Notebook to test the Bedrock Agents and UC Functions."
   ]
  },
  {
   "cell_type": "code",
   "execution_count": 1,
   "metadata": {},
   "outputs": [],
   "source": [
    "%load_ext autoreload\n",
    "%autoreload 2"
   ]
  },
  {
   "cell_type": "code",
   "execution_count": 2,
   "metadata": {},
   "outputs": [],
   "source": [
    " %reload_ext autoreload"
   ]
  },
  {
   "cell_type": "code",
   "execution_count": 3,
   "metadata": {},
   "outputs": [],
   "source": [
    "from unitycatalog.ai.core.client import UnitycatalogFunctionClient\n",
    "from unitycatalog.client import ApiClient, Configuration\n",
    "from unitycatalog.ai.bedrock.toolkit import UCFunctionToolkit\n"
   ]
  },
  {
   "cell_type": "code",
   "execution_count": 4,
   "metadata": {},
   "outputs": [],
   "source": [
    "config = Configuration()\n",
    "config.host = \"http://localhost:8080/api/2.1/unity-catalog\"\n",
    "\n",
    "# The base ApiClient is async\n",
    "api_client = ApiClient(configuration=config)\n",
    "\n",
    "client = UnitycatalogFunctionClient(api_client=api_client)\n",
    "\n",
    "CATALOG = \"AICatalog1\"\n",
    "SCHEMA = \"AISchema1\"\n"
   ]
  },
  {
   "cell_type": "code",
   "execution_count": null,
   "metadata": {},
   "outputs": [],
   "source": [
    "# Sample function to get weather in celsius\n",
    "    \n",
    "def get_weather_in_celsius(location_id: str, fetch_date: str) -> str:\n",
    "    \"\"\"Test function for AWS Bedrock integration.\n",
    "\n",
    "    Args:\n",
    "        location_id (str): The name to be included in the greeting message.\n",
    "        fetch_date (str): The date with the location \n",
    "\n",
    "    Raises:\n",
    "        Exception: If there is an error during the function execution.\n",
    "\n",
    "    Returns:\n",
    "        str: Weather result.\n",
    "    \"\"\"\n",
    "    try:\n",
    "        # Fetch from Databricks SQL Warehouse based UC function execution \n",
    "        return \"23\"\n",
    "    except Exception as e:\n",
    "        raise Exception(f\"Error occurred: {e}\")"
   ]
  },
  {
   "cell_type": "code",
   "execution_count": null,
   "metadata": {},
   "outputs": [],
   "source": [
    "def get_weather_in_fh(location_id: str, fetch_date: str) -> str:\n",
    "    \"\"\"Test function for AWS Bedrock integration.\n",
    "\n",
    "    Args:\n",
    "        location_id (str): The name to be included in the greeting message.\n",
    "        fetch_date (str): The date with the location \n",
    "\n",
    "    Raises:\n",
    "        Exception: If there is an error during the function execution.\n",
    "\n",
    "    Returns:\n",
    "        str: Weather result.\n",
    "    \"\"\"\n",
    "    try:\n",
    "        # Fetch from Databricks SQL Warehouse based UC function execution \n",
    "        return \"72\"\n",
    "    except Exception as e:\n",
    "        raise Exception(f\"Error occurred: {e}\")"
   ]
  },
  {
   "cell_type": "code",
   "execution_count": null,
   "metadata": {},
   "outputs": [],
   "source": [
    "client.uc.create_catalog(name=CATALOG, comment=\"Catalog for AI functions\")"
   ]
  },
  {
   "cell_type": "code",
   "execution_count": null,
   "metadata": {},
   "outputs": [],
   "source": [
    "client.uc.create_schema(catalog_name=CATALOG, name=SCHEMA, comment=\"Schema for AI functions\")"
   ]
  },
  {
   "cell_type": "code",
   "execution_count": null,
   "metadata": {},
   "outputs": [],
   "source": [
    "client.create_python_function(\n",
    "    func=get_weather_in_celsius, \n",
    "    catalog=CATALOG, \n",
    "    schema=SCHEMA, \n",
    "    replace=True)"
   ]
  },
  {
   "cell_type": "code",
   "execution_count": null,
   "metadata": {},
   "outputs": [],
   "source": [
    "client.create_python_function(\n",
    "    func=get_weather_in_fh, \n",
    "    catalog=CATALOG, \n",
    "    schema=SCHEMA, \n",
    "    replace=True)"
   ]
  },
  {
   "cell_type": "markdown",
   "metadata": {},
   "source": [
    "## Check if UC function exists"
   ]
  },
  {
   "cell_type": "code",
   "execution_count": 64,
   "metadata": {},
   "outputs": [],
   "source": [
    "function_name = f\"{CATALOG}.{SCHEMA}.get_weather_in_celsius\""
   ]
  },
  {
   "cell_type": "code",
   "execution_count": 65,
   "metadata": {},
   "outputs": [
    {
     "name": "stdout",
     "output_type": "stream",
     "text": [
      "name='get_weather_in_celsius' catalog_name='AICatalog1' schema_name='AISchema1' input_params=FunctionParameterInfos(parameters=[FunctionParameterInfo(name='location_id', type_text='STRING', type_json='{\"name\": \"location_id\", \"type\": \"string\", \"nullable\": false, \"metadata\": {\"comment\": \"The name to be included in the greeting message.\"}}', type_name=<ColumnTypeName.STRING: 'STRING'>, type_precision=None, type_scale=None, type_interval_type=None, position=0, parameter_mode=None, parameter_type=None, parameter_default=None, comment='The name to be included in the greeting message.'), FunctionParameterInfo(name='fetch_date', type_text='STRING', type_json='{\"name\": \"fetch_date\", \"type\": \"string\", \"nullable\": false, \"metadata\": {\"comment\": \"The date with the location\"}}', type_name=<ColumnTypeName.STRING: 'STRING'>, type_precision=None, type_scale=None, type_interval_type=None, position=1, parameter_mode=None, parameter_type=None, parameter_default=None, comment='The date with the location')]) data_type=<ColumnTypeName.STRING: 'STRING'> full_data_type='STRING' return_params=None routine_body='EXTERNAL' routine_definition='try:\\n    # Fetch from Databricks SQL Warehouse based UC function execution \\n    return \"23\"\\nexcept Exception as e:\\n    raise Exception(f\"Error occurred: {e}\")' routine_dependencies=None parameter_style='S' is_deterministic=True sql_data_access='NO_SQL' is_null_call=False security_type='DEFINER' specific_name='get_weather_in_celsius' comment='Test function for AWS Bedrock integration.' properties=None full_name='AICatalog1.AISchema1.get_weather_in_celsius' owner=None created_at=1739316541957 created_by=None updated_at=1739316541957 updated_by=None function_id='e0315177-44c1-46cc-9551-bd9691acf1d3' external_language='PYTHON'\n"
     ]
    }
   ],
   "source": [
    "try:\n",
    "    print(client.get_function(function_name))\n",
    "except Exception as e:\n",
    "    print(f\"Function {function_name} does not exist, creating it...\")"
   ]
  },
  {
   "cell_type": "code",
   "execution_count": 5,
   "metadata": {},
   "outputs": [],
   "source": [
    "#function_name = f\"{CATALOG}.{SCHEMA}.get_weather_in_celsius\"\n",
    "function_name_c = f\"{CATALOG}.{SCHEMA}.get_weather_in_celsius\"\n",
    "function_name_fh = f\"{CATALOG}.{SCHEMA}.get_weather_in_fh\"\n",
    "toolkit = UCFunctionToolkit(function_names=[function_name_c, function_name_fh], client=client)"
   ]
  },
  {
   "cell_type": "code",
   "execution_count": 68,
   "metadata": {},
   "outputs": [
    {
     "name": "stdout",
     "output_type": "stream",
     "text": [
      "name='get_weather_in_celsius' catalog_name='AICatalog1' schema_name='AISchema1' input_params=FunctionParameterInfos(parameters=[FunctionParameterInfo(name='location_id', type_text='STRING', type_json='{\"name\": \"location_id\", \"type\": \"string\", \"nullable\": false, \"metadata\": {\"comment\": \"The name to be included in the greeting message.\"}}', type_name=<ColumnTypeName.STRING: 'STRING'>, type_precision=None, type_scale=None, type_interval_type=None, position=0, parameter_mode=None, parameter_type=None, parameter_default=None, comment='The name to be included in the greeting message.'), FunctionParameterInfo(name='fetch_date', type_text='STRING', type_json='{\"name\": \"fetch_date\", \"type\": \"string\", \"nullable\": false, \"metadata\": {\"comment\": \"The date with the location\"}}', type_name=<ColumnTypeName.STRING: 'STRING'>, type_precision=None, type_scale=None, type_interval_type=None, position=1, parameter_mode=None, parameter_type=None, parameter_default=None, comment='The date with the location')]) data_type=<ColumnTypeName.STRING: 'STRING'> full_data_type='STRING' return_params=None routine_body='EXTERNAL' routine_definition='try:\\n    # Fetch from Databricks SQL Warehouse based UC function execution \\n    return \"23\"\\nexcept Exception as e:\\n    raise Exception(f\"Error occurred: {e}\")' routine_dependencies=None parameter_style='S' is_deterministic=True sql_data_access='NO_SQL' is_null_call=False security_type='DEFINER' specific_name='get_weather_in_celsius' comment='Test function for AWS Bedrock integration.' properties=None full_name='AICatalog1.AISchema1.get_weather_in_celsius' owner=None created_at=1739316541957 created_by=None updated_at=1739316541957 updated_by=None function_id='e0315177-44c1-46cc-9551-bd9691acf1d3' external_language='PYTHON'\n"
     ]
    }
   ],
   "source": [
    "print(toolkit.client.get_function(function_name))"
   ]
  },
  {
   "cell_type": "code",
   "execution_count": 6,
   "metadata": {},
   "outputs": [
    {
     "name": "stdout",
     "output_type": "stream",
     "text": [
      "[FunctionInfo(name='get_weather_in_celsius', catalog_name='AICatalog1', schema_name='AISchema1', input_params=FunctionParameterInfos(parameters=[FunctionParameterInfo(name='location_id', type_text='STRING', type_json='{\"name\": \"location_id\", \"type\": \"string\", \"nullable\": false, \"metadata\": {\"comment\": \"The name to be included in the greeting message.\"}}', type_name=<ColumnTypeName.STRING: 'STRING'>, type_precision=None, type_scale=None, type_interval_type=None, position=0, parameter_mode=None, parameter_type=None, parameter_default=None, comment='The name to be included in the greeting message.'), FunctionParameterInfo(name='fetch_date', type_text='STRING', type_json='{\"name\": \"fetch_date\", \"type\": \"string\", \"nullable\": false, \"metadata\": {\"comment\": \"The date with the location\"}}', type_name=<ColumnTypeName.STRING: 'STRING'>, type_precision=None, type_scale=None, type_interval_type=None, position=1, parameter_mode=None, parameter_type=None, parameter_default=None, comment='The date with the location')]), data_type=<ColumnTypeName.STRING: 'STRING'>, full_data_type='STRING', return_params=None, routine_body='EXTERNAL', routine_definition='try:\\n    # Fetch from Databricks SQL Warehouse based UC function execution \\n    return \"23\"\\nexcept Exception as e:\\n    raise Exception(f\"Error occurred: {e}\")', routine_dependencies=None, parameter_style='S', is_deterministic=True, sql_data_access='NO_SQL', is_null_call=False, security_type='DEFINER', specific_name='get_weather_in_celsius', comment='Test function for AWS Bedrock integration.', properties='{}', full_name='AICatalog1.AISchema1.get_weather_in_celsius', owner=None, created_at=1739316541957, created_by=None, updated_at=1739316541957, updated_by=None, function_id='e0315177-44c1-46cc-9551-bd9691acf1d3', external_language='PYTHON'),\n",
      " FunctionInfo(name='get_weather_in_fh', catalog_name='AICatalog1', schema_name='AISchema1', input_params=FunctionParameterInfos(parameters=[FunctionParameterInfo(name='location_id', type_text='STRING', type_json='{\"name\": \"location_id\", \"type\": \"string\", \"nullable\": false, \"metadata\": {\"comment\": \"The name to be included in the greeting message.\"}}', type_name=<ColumnTypeName.STRING: 'STRING'>, type_precision=None, type_scale=None, type_interval_type=None, position=0, parameter_mode=None, parameter_type=None, parameter_default=None, comment='The name to be included in the greeting message.'), FunctionParameterInfo(name='fetch_date', type_text='STRING', type_json='{\"name\": \"fetch_date\", \"type\": \"string\", \"nullable\": false, \"metadata\": {\"comment\": \"The date with the location\"}}', type_name=<ColumnTypeName.STRING: 'STRING'>, type_precision=None, type_scale=None, type_interval_type=None, position=1, parameter_mode=None, parameter_type=None, parameter_default=None, comment='The date with the location')]), data_type=<ColumnTypeName.STRING: 'STRING'>, full_data_type='STRING', return_params=None, routine_body='EXTERNAL', routine_definition='try:\\n    # Fetch from Databricks SQL Warehouse based UC function execution \\n    return \"72\"\\nexcept Exception as e:\\n    raise Exception(f\"Error occurred: {e}\")', routine_dependencies=None, parameter_style='S', is_deterministic=True, sql_data_access='NO_SQL', is_null_call=False, security_type='DEFINER', specific_name='get_weather_in_fh', comment='Test function for AWS Bedrock integration.', properties='{}', full_name='AICatalog1.AISchema1.get_weather_in_fh', owner=None, created_at=1739316546320, created_by=None, updated_at=1739316546320, updated_by=None, function_id='20139616-ec70-4165-9fd1-666f63fb4982', external_language='PYTHON')]\n"
     ]
    }
   ],
   "source": [
    "import pprint\n",
    "pprint.pp(toolkit.client.list_functions(catalog=CATALOG, schema=SCHEMA))"
   ]
  },
  {
   "cell_type": "markdown",
   "metadata": {},
   "source": [
    "# Adding Bedrock SDK calls \n"
   ]
  },
  {
   "cell_type": "code",
   "execution_count": 7,
   "metadata": {},
   "outputs": [],
   "source": [
    "import boto3, pprint, json, time, uuid"
   ]
  },
  {
   "cell_type": "code",
   "execution_count": null,
   "metadata": {},
   "outputs": [],
   "source": [
    "#boto3.setup_default_session()"
   ]
  },
  {
   "cell_type": "markdown",
   "metadata": {},
   "source": [
    "## Calling agent with a specific version or state by mentioning the agent alias. \n",
    "### Need to change the version or agent alis to test the changes to the agent or agent action groups/functions"
   ]
  },
  {
   "cell_type": "code",
   "execution_count": 8,
   "metadata": {},
   "outputs": [],
   "source": [
    "agent_id = \"HXPGL1POGD\"\n",
    "agent_alias_id = \"4TL4EPM5HT\""
   ]
  },
  {
   "cell_type": "code",
   "execution_count": 73,
   "metadata": {},
   "outputs": [
    {
     "name": "stdout",
     "output_type": "stream",
     "text": [
      "Initialized BedrockSession with agent_id: HXPGL1POGD, agent_alias_id: 4TL4EPM5HT, catalog_name: AICatalog1 schema_name: AISchema1, \n"
     ]
    }
   ],
   "source": [
    "# Bedrock agent configuration\n",
    "session = toolkit.create_session(agent_id=agent_id,\n",
    "                                agent_alias_id=agent_alias_id,\n",
    "                                catalog_name=CATALOG,\n",
    "                                schema_name=SCHEMA,\n",
    "                                #function_name=\"get_weather_in_celsius\"\n",
    "                                )\n",
    "# Generate unique session ID\n",
    "session_id = str(uuid.uuid1())"
   ]
  },
  {
   "cell_type": "code",
   "execution_count": 74,
   "metadata": {},
   "outputs": [
    {
     "data": {
      "text/plain": [
       "FunctionInfo(name='get_weather_in_celsius', catalog_name='AICatalog1', schema_name='AISchema1', input_params=FunctionParameterInfos(parameters=[FunctionParameterInfo(name='location_id', type_text='STRING', type_json='{\"name\": \"location_id\", \"type\": \"string\", \"nullable\": false, \"metadata\": {\"comment\": \"The name to be included in the greeting message.\"}}', type_name=<ColumnTypeName.STRING: 'STRING'>, type_precision=None, type_scale=None, type_interval_type=None, position=0, parameter_mode=None, parameter_type=None, parameter_default=None, comment='The name to be included in the greeting message.'), FunctionParameterInfo(name='fetch_date', type_text='STRING', type_json='{\"name\": \"fetch_date\", \"type\": \"string\", \"nullable\": false, \"metadata\": {\"comment\": \"The date with the location\"}}', type_name=<ColumnTypeName.STRING: 'STRING'>, type_precision=None, type_scale=None, type_interval_type=None, position=1, parameter_mode=None, parameter_type=None, parameter_default=None, comment='The date with the location')]), data_type=<ColumnTypeName.STRING: 'STRING'>, full_data_type='STRING', return_params=None, routine_body='EXTERNAL', routine_definition='try:\\n    # Fetch from Databricks SQL Warehouse based UC function execution \\n    return \"23\"\\nexcept Exception as e:\\n    raise Exception(f\"Error occurred: {e}\")', routine_dependencies=None, parameter_style='S', is_deterministic=True, sql_data_access='NO_SQL', is_null_call=False, security_type='DEFINER', specific_name='get_weather_in_celsius', comment='Test function for AWS Bedrock integration.', properties=None, full_name='AICatalog1.AISchema1.get_weather_in_celsius', owner=None, created_at=1739316541957, created_by=None, updated_at=1739316541957, updated_by=None, function_id='e0315177-44c1-46cc-9551-bd9691acf1d3', external_language='PYTHON')"
      ]
     },
     "execution_count": 74,
     "metadata": {},
     "output_type": "execute_result"
    }
   ],
   "source": [
    "client.get_function(f\"{CATALOG}.{SCHEMA}.get_weather_in_celsius\")"
   ]
  },
  {
   "cell_type": "code",
   "execution_count": 75,
   "metadata": {},
   "outputs": [
    {
     "name": "stdout",
     "output_type": "stream",
     "text": [
      "Response from invoke agent: {'ResponseMetadata': {'RequestId': '224a7c76-fec4-4151-91e2-b57fe7b0329d', 'HTTPStatusCode': 200, 'HTTPHeaders': {'date': 'Wed, 12 Feb 2025 01:19:33 GMT', 'content-type': 'application/vnd.amazon.eventstream', 'transfer-encoding': 'chunked', 'connection': 'keep-alive', 'x-amzn-requestid': '224a7c76-fec4-4151-91e2-b57fe7b0329d', 'x-amz-bedrock-agent-session-id': '647ea11c-e8df-11ef-bc25-dae3f3b23e8c', 'x-amzn-bedrock-agent-content-type': 'application/json'}, 'RetryAttempts': 0}, 'contentType': 'application/json', 'sessionId': '647ea11c-e8df-11ef-bc25-dae3f3b23e8c', 'completion': <botocore.eventstream.EventStream object at 0x138c2db80>}\n",
      "Tool Call Results: [{'function_name': 'uc-ai-bedrock-action-group-name__get_weather_in_celsius', 'parameters': {'fetch_date': '2024-11-19', 'location_id': '1234'}, 'invocation_id': '36b74a75-1e1c-4f87-a99c-73a9fd60b632-uc-result'}]\n",
      "****************************\n",
      "Tool Calls: uc-ai-bedrock-action-group-name__get_weather_in_celsius\n",
      "****************************\n",
      "Full Function Name: AICatalog1.AISchema1.get_weather_in_celsius\n",
      "Retrieved function info Override: name='get_weather_in_celsius' catalog_name='AICatalog1' schema_name='AISchema1' input_params=FunctionParameterInfos(parameters=[FunctionParameterInfo(name='location_id', type_text='STRING', type_json='{\"name\": \"location_id\", \"type\": \"string\", \"nullable\": false, \"metadata\": {\"comment\": \"The name to be included in the greeting message.\"}}', type_name=<ColumnTypeName.STRING: 'STRING'>, type_precision=None, type_scale=None, type_interval_type=None, position=0, parameter_mode=None, parameter_type=None, parameter_default=None, comment='The name to be included in the greeting message.'), FunctionParameterInfo(name='fetch_date', type_text='STRING', type_json='{\"name\": \"fetch_date\", \"type\": \"string\", \"nullable\": false, \"metadata\": {\"comment\": \"The date with the location\"}}', type_name=<ColumnTypeName.STRING: 'STRING'>, type_precision=None, type_scale=None, type_interval_type=None, position=1, parameter_mode=None, parameter_type=None, parameter_default=None, comment='The date with the location')]) data_type=<ColumnTypeName.STRING: 'STRING'> full_data_type='STRING' return_params=None routine_body='EXTERNAL' routine_definition='try:\\n    # Fetch from Databricks SQL Warehouse based UC function execution \\n    return \"23\"\\nexcept Exception as e:\\n    raise Exception(f\"Error occurred: {e}\")' routine_dependencies=None parameter_style='S' is_deterministic=True sql_data_access='NO_SQL' is_null_call=False security_type='DEFINER' specific_name='get_weather_in_celsius' comment='Test function for AWS Bedrock integration.' properties=None full_name='AICatalog1.AISchema1.get_weather_in_celsius' owner=None created_at=1739316541957 created_by=None updated_at=1739316541957 updated_by=None function_id='e0315177-44c1-46cc-9551-bd9691acf1d3' external_language='PYTHON'\n",
      "**********************************************************\n",
      "too_call {'function_name': 'uc-ai-bedrock-action-group-name__get_weather_in_celsius', 'parameters': {'fetch_date': '2024-11-19', 'location_id': '1234'}, 'invocation_id': '36b74a75-1e1c-4f87-a99c-73a9fd60b632-uc-result'}\n",
      "**********************************************************\n",
      "**********************************************************\n",
      "too_call FunctionExecutionResult(error=None, format='SCALAR', value='23', truncated=None)\n",
      "**********************************************************\n",
      "ToolResults: [{'invocation_id': '36b74a75-1e1c-4f87-a99c-73a9fd60b632-uc-result', 'result': '23'}]\n",
      "SessionState from tool_results: {'invocationId': '36b74a75-1e1c-4f87-a99c-73a9fd60b632-uc-result', 'returnControlInvocationResults': [{'functionResult': {'actionGroup': 'uc-ai-bedrock-action-group-name', 'function': 'get_weather_in_celsius', 'confirmationState': 'CONFIRM', 'responseBody': {'TEXT': {'body': '23'}}}}]}\n",
      "Results: [{'functionResult': {'actionGroup': 'uc-ai-bedrock-action-group-name', 'function': 'get_weather_in_celsius', 'confirmationState': 'CONFIRM', 'responseBody': {'TEXT': {'body': '23'}}}}]\n",
      "response_body_obj: {'TEXT': {'body': '23'}}\n",
      "result value: 23\n"
     ]
    }
   ],
   "source": [
    "response = session.invoke_agent(\n",
    "                input_text=\"What is the weather for location 1234 and date of 2024-11-19\",\n",
    "                enable_trace=True,\n",
    "                session_id=session_id,\n",
    "                uc_client = toolkit.client\n",
    "                )"
   ]
  },
  {
   "cell_type": "code",
   "execution_count": 76,
   "metadata": {},
   "outputs": [
    {
     "name": "stdout",
     "output_type": "stream",
     "text": [
      "BedrockToolResponse(raw_response={'ResponseMetadata': {'RequestId': '42632d9a-1638-4e5d-9457-353ae3fcafc7', 'HTTPStatusCode': 200, 'HTTPHeaders': {'date': 'Wed, 12 Feb 2025 01:20:42 GMT', 'content-type': 'application/vnd.amazon.eventstream', 'transfer-encoding': 'chunked', 'connection': 'keep-alive', 'x-amzn-requestid': '42632d9a-1638-4e5d-9457-353ae3fcafc7', 'x-amz-bedrock-agent-session-id': '647ea11c-e8df-11ef-bc25-dae3f3b23e8c', 'x-amzn-bedrock-agent-content-type': 'application/json'}, 'RetryAttempts': 0}, 'contentType': 'application/json', 'sessionId': '647ea11c-e8df-11ef-bc25-dae3f3b23e8c', 'completion': <botocore.eventstream.EventStream object at 0x1392d84b0>}, tool_calls=[{'function_name': 'uc-ai-bedrock-action-group-name__get_weather_in_celsius', 'parameters': {'fetch_date': '2024-11-19', 'location_id': '1234'}, 'invocation_id': '36b74a75-1e1c-4f87-a99c-73a9fd60b632-uc-result'}], tool_results=[], response_body=None)\n"
     ]
    }
   ],
   "source": [
    "import pprint \n",
    "pprint.pp(response)"
   ]
  },
  {
   "cell_type": "code",
   "execution_count": 77,
   "metadata": {},
   "outputs": [
    {
     "name": "stdout",
     "output_type": "stream",
     "text": [
      "The weather for location ID 1234 on 2024-11-19 is \n",
      "23°C (degrees Celsius).\n"
     ]
    }
   ],
   "source": [
    "\n",
    "# Run the stream with wrapping\n",
    "response.print_stream_with_wrapping(response.get_stream(), max_line_length=50)\n"
   ]
  },
  {
   "cell_type": "markdown",
   "metadata": {},
   "source": [
    "## Fetch weather in Fahrenheit with a new agent alias "
   ]
  },
  {
   "cell_type": "code",
   "execution_count": null,
   "metadata": {},
   "outputs": [
    {
     "name": "stdout",
     "output_type": "stream",
     "text": [
      "Initialized BedrockSession with agent_id: HXPGL1POGD, agent_alias_id: UWOLYMYEIT, catalog_name: AICatalog1 schema_name: AISchema1, \n"
     ]
    }
   ],
   "source": [
    "# Bedrock agent configuration\n",
    "agent_id = \"HXPGL1POGD\"\n",
    "agent_alias_id_fh = \"UWOLYMYEIT\"\n",
    "\n",
    "session_fh = toolkit.create_session(agent_id=agent_id,\n",
    "                                agent_alias_id=agent_alias_id_fh,\n",
    "                                catalog_name=CATALOG,\n",
    "                                schema_name=SCHEMA,\n",
    "                                #function_name=\"get_weather_in_celsius\"\n",
    "                                )\n",
    "# Generate unique session ID\n",
    "session_id_fh = str(uuid.uuid1())"
   ]
  },
  {
   "cell_type": "code",
   "execution_count": 15,
   "metadata": {},
   "outputs": [
    {
     "name": "stdout",
     "output_type": "stream",
     "text": [
      "Response from invoke agent: {'ResponseMetadata': {'RequestId': '76f7bcc2-772d-4cc0-a750-48698253ac6f', 'HTTPStatusCode': 200, 'HTTPHeaders': {'date': 'Wed, 12 Feb 2025 02:07:51 GMT', 'content-type': 'application/vnd.amazon.eventstream', 'transfer-encoding': 'chunked', 'connection': 'keep-alive', 'x-amzn-requestid': '76f7bcc2-772d-4cc0-a750-48698253ac6f', 'x-amz-bedrock-agent-session-id': '29682254-e8e6-11ef-8661-dae3f3b23e8c', 'x-amzn-bedrock-agent-content-type': 'application/json'}, 'RetryAttempts': 0}, 'contentType': 'application/json', 'sessionId': '29682254-e8e6-11ef-8661-dae3f3b23e8c', 'completion': <botocore.eventstream.EventStream object at 0x1182627b0>}\n",
      "Tool Call Results: [{'function_name': 'uc-ai-bedrock-action-group-name-fh__get_weather_in_fh', 'parameters': {'fetch_date': '2024-11-19', 'location_id': '1234'}, 'invocation_id': '5ad15e91-84ea-477f-948a-0fd662b17d08'}]\n",
      "****************************\n",
      "Tool Calls: uc-ai-bedrock-action-group-name-fh__get_weather_in_fh\n",
      "****************************\n",
      "Full Function Name: AICatalog1.AISchema1.get_weather_in_fh\n",
      "Retrieved function info Override: name='get_weather_in_fh' catalog_name='AICatalog1' schema_name='AISchema1' input_params=FunctionParameterInfos(parameters=[FunctionParameterInfo(name='location_id', type_text='STRING', type_json='{\"name\": \"location_id\", \"type\": \"string\", \"nullable\": false, \"metadata\": {\"comment\": \"The name to be included in the greeting message.\"}}', type_name=<ColumnTypeName.STRING: 'STRING'>, type_precision=None, type_scale=None, type_interval_type=None, position=0, parameter_mode=None, parameter_type=None, parameter_default=None, comment='The name to be included in the greeting message.'), FunctionParameterInfo(name='fetch_date', type_text='STRING', type_json='{\"name\": \"fetch_date\", \"type\": \"string\", \"nullable\": false, \"metadata\": {\"comment\": \"The date with the location\"}}', type_name=<ColumnTypeName.STRING: 'STRING'>, type_precision=None, type_scale=None, type_interval_type=None, position=1, parameter_mode=None, parameter_type=None, parameter_default=None, comment='The date with the location')]) data_type=<ColumnTypeName.STRING: 'STRING'> full_data_type='STRING' return_params=None routine_body='EXTERNAL' routine_definition='try:\\n    # Fetch from Databricks SQL Warehouse based UC function execution \\n    return \"72\"\\nexcept Exception as e:\\n    raise Exception(f\"Error occurred: {e}\")' routine_dependencies=None parameter_style='S' is_deterministic=True sql_data_access='NO_SQL' is_null_call=False security_type='DEFINER' specific_name='get_weather_in_fh' comment='Test function for AWS Bedrock integration.' properties=None full_name='AICatalog1.AISchema1.get_weather_in_fh' owner=None created_at=1739316546320 created_by=None updated_at=1739316546320 updated_by=None function_id='20139616-ec70-4165-9fd1-666f63fb4982' external_language='PYTHON'\n",
      "**********************************************************\n",
      "too_call {'function_name': 'uc-ai-bedrock-action-group-name-fh__get_weather_in_fh', 'parameters': {'fetch_date': '2024-11-19', 'location_id': '1234'}, 'invocation_id': '5ad15e91-84ea-477f-948a-0fd662b17d08'}\n",
      "**********************************************************\n",
      "**********************************************************\n",
      "too_call FunctionExecutionResult(error=None, format='SCALAR', value='72', truncated=None)\n",
      "**********************************************************\n",
      "ToolResults: [{'invocation_id': '5ad15e91-84ea-477f-948a-0fd662b17d08', 'result': '72'}]\n",
      "SessionState from tool_results: {'invocationId': '5ad15e91-84ea-477f-948a-0fd662b17d08', 'returnControlInvocationResults': [{'functionResult': {'actionGroup': 'uc-ai-bedrock-action-group-name-fh', 'function': 'get_weather_in_fh', 'confirmationState': 'CONFIRM', 'responseBody': {'TEXT': {'body': '72'}}}}]}\n",
      "Results: [{'functionResult': {'actionGroup': 'uc-ai-bedrock-action-group-name-fh', 'function': 'get_weather_in_fh', 'confirmationState': 'CONFIRM', 'responseBody': {'TEXT': {'body': '72'}}}}]\n",
      "response_body_obj: {'TEXT': {'body': '72'}}\n",
      "result value: 72\n",
      "The weather for location 1234 on 2024-11-19 is 72°\n",
      "F (Fahrenheit).\n"
     ]
    }
   ],
   "source": [
    "\n",
    "\n",
    "response_fh = session_fh.invoke_agent(\n",
    "                input_text=\"What is the weather in Fahrenheit for location 1234 and date of 2024-11-19?.\",\n",
    "                enable_trace=True,\n",
    "                session_id=session_id_fh,\n",
    "                uc_client = toolkit.client\n",
    "                )\n",
    "\n",
    "\n",
    "# Run the stream with wrapping\n",
    "response_fh.print_stream_with_wrapping(response_fh.get_stream(), max_line_length=50)"
   ]
  },
  {
   "cell_type": "markdown",
   "metadata": {},
   "source": [
    "## Agent with two action groups for C and F with a new agent alias"
   ]
  },
  {
   "cell_type": "code",
   "execution_count": 12,
   "metadata": {},
   "outputs": [
    {
     "name": "stdout",
     "output_type": "stream",
     "text": [
      "Initialized BedrockSession with agent_id: HXPGL1POGD, agent_alias_id: X1KRKIAVYT, catalog_name: AICatalog1 schema_name: AISchema1, \n"
     ]
    }
   ],
   "source": [
    "# Bedrock agent configuration\n",
    "agent_id = \"HXPGL1POGD\"\n",
    "agent_alias_id_c_fh = \"X1KRKIAVYT\"\n",
    "\n",
    "session_fh = toolkit.create_session(agent_id=agent_id,\n",
    "                                agent_alias_id=agent_alias_id_c_fh,\n",
    "                                catalog_name=CATALOG,\n",
    "                                schema_name=SCHEMA,\n",
    "                                #function_name=\"get_weather_in_celsius\"\n",
    "                                )\n",
    "# Generate unique session ID\n",
    "session_id_cfh = str(uuid.uuid1())"
   ]
  },
  {
   "cell_type": "code",
   "execution_count": 18,
   "metadata": {},
   "outputs": [
    {
     "name": "stdout",
     "output_type": "stream",
     "text": [
      "Response from invoke agent: {'ResponseMetadata': {'RequestId': 'c6eb0f60-2635-47ef-bc95-e3060b851aef', 'HTTPStatusCode': 200, 'HTTPHeaders': {'date': 'Wed, 12 Feb 2025 02:13:33 GMT', 'content-type': 'application/vnd.amazon.eventstream', 'transfer-encoding': 'chunked', 'connection': 'keep-alive', 'x-amzn-requestid': 'c6eb0f60-2635-47ef-bc95-e3060b851aef', 'x-amz-bedrock-agent-session-id': 'f07ffa06-e8e6-11ef-8661-dae3f3b23e8c', 'x-amzn-bedrock-agent-content-type': 'application/json'}, 'RetryAttempts': 0}, 'contentType': 'application/json', 'sessionId': 'f07ffa06-e8e6-11ef-8661-dae3f3b23e8c', 'completion': <botocore.eventstream.EventStream object at 0x118c3c270>}\n",
      "Tool Call Results: [{'function_name': 'uc-ai-bedrock-action-group-name-fh__get_weather_in_fh', 'parameters': {'fetch_date': '2024-11-19', 'location_id': '1234'}, 'invocation_id': 'd5a43861-7167-48d1-a3c8-c7f3163dd30d'}]\n",
      "****************************\n",
      "Tool Calls: uc-ai-bedrock-action-group-name-fh__get_weather_in_fh\n",
      "****************************\n",
      "Full Function Name: AICatalog1.AISchema1.get_weather_in_fh\n",
      "Retrieved function info Override: name='get_weather_in_fh' catalog_name='AICatalog1' schema_name='AISchema1' input_params=FunctionParameterInfos(parameters=[FunctionParameterInfo(name='location_id', type_text='STRING', type_json='{\"name\": \"location_id\", \"type\": \"string\", \"nullable\": false, \"metadata\": {\"comment\": \"The name to be included in the greeting message.\"}}', type_name=<ColumnTypeName.STRING: 'STRING'>, type_precision=None, type_scale=None, type_interval_type=None, position=0, parameter_mode=None, parameter_type=None, parameter_default=None, comment='The name to be included in the greeting message.'), FunctionParameterInfo(name='fetch_date', type_text='STRING', type_json='{\"name\": \"fetch_date\", \"type\": \"string\", \"nullable\": false, \"metadata\": {\"comment\": \"The date with the location\"}}', type_name=<ColumnTypeName.STRING: 'STRING'>, type_precision=None, type_scale=None, type_interval_type=None, position=1, parameter_mode=None, parameter_type=None, parameter_default=None, comment='The date with the location')]) data_type=<ColumnTypeName.STRING: 'STRING'> full_data_type='STRING' return_params=None routine_body='EXTERNAL' routine_definition='try:\\n    # Fetch from Databricks SQL Warehouse based UC function execution \\n    return \"72\"\\nexcept Exception as e:\\n    raise Exception(f\"Error occurred: {e}\")' routine_dependencies=None parameter_style='S' is_deterministic=True sql_data_access='NO_SQL' is_null_call=False security_type='DEFINER' specific_name='get_weather_in_fh' comment='Test function for AWS Bedrock integration.' properties=None full_name='AICatalog1.AISchema1.get_weather_in_fh' owner=None created_at=1739316546320 created_by=None updated_at=1739316546320 updated_by=None function_id='20139616-ec70-4165-9fd1-666f63fb4982' external_language='PYTHON'\n",
      "**********************************************************\n",
      "too_call {'function_name': 'uc-ai-bedrock-action-group-name-fh__get_weather_in_fh', 'parameters': {'fetch_date': '2024-11-19', 'location_id': '1234'}, 'invocation_id': 'd5a43861-7167-48d1-a3c8-c7f3163dd30d'}\n",
      "**********************************************************\n",
      "**********************************************************\n",
      "too_call FunctionExecutionResult(error=None, format='SCALAR', value='72', truncated=None)\n",
      "**********************************************************\n",
      "ToolResults: [{'invocation_id': 'd5a43861-7167-48d1-a3c8-c7f3163dd30d', 'result': '72'}]\n",
      "SessionState from tool_results: {'invocationId': 'd5a43861-7167-48d1-a3c8-c7f3163dd30d', 'returnControlInvocationResults': [{'functionResult': {'actionGroup': 'uc-ai-bedrock-action-group-name-fh', 'function': 'get_weather_in_fh', 'confirmationState': 'CONFIRM', 'responseBody': {'TEXT': {'body': '72'}}}}]}\n",
      "Results: [{'functionResult': {'actionGroup': 'uc-ai-bedrock-action-group-name-fh', 'function': 'get_weather_in_fh', 'confirmationState': 'CONFIRM', 'responseBody': {'TEXT': {'body': '72'}}}}]\n",
      "response_body_obj: {'TEXT': {'body': '72'}}\n",
      "result value: 72\n",
      "The weather for location 1234 on 2024-11-19 is 72°\n",
      "F (Fahrenheit).\n"
     ]
    }
   ],
   "source": [
    "\n",
    "response_fh_1 = session_fh.invoke_agent(\n",
    "                input_text=\"What is the weather in Fahrenheit for location 1234 and date of 2024-11-19?.\",\n",
    "                enable_trace=True,\n",
    "                session_id=session_id_cfh,\n",
    "                uc_client = toolkit.client\n",
    "                )\n",
    "\n",
    "\n",
    "# Run the stream with wrapping\n",
    "response_fh_1.print_stream_with_wrapping(response_fh_1.get_stream(), max_line_length=50)"
   ]
  },
  {
   "cell_type": "code",
   "execution_count": 19,
   "metadata": {},
   "outputs": [],
   "source": [
    "import time "
   ]
  },
  {
   "cell_type": "code",
   "execution_count": 20,
   "metadata": {},
   "outputs": [],
   "source": [
    "time.sleep(65)"
   ]
  },
  {
   "cell_type": "code",
   "execution_count": 21,
   "metadata": {},
   "outputs": [
    {
     "name": "stdout",
     "output_type": "stream",
     "text": [
      "Response from invoke agent: {'ResponseMetadata': {'RequestId': '6ed6fa49-8d35-4af4-89c1-3948cf196b35', 'HTTPStatusCode': 200, 'HTTPHeaders': {'date': 'Wed, 12 Feb 2025 02:15:51 GMT', 'content-type': 'application/vnd.amazon.eventstream', 'transfer-encoding': 'chunked', 'connection': 'keep-alive', 'x-amzn-requestid': '6ed6fa49-8d35-4af4-89c1-3948cf196b35', 'x-amz-bedrock-agent-session-id': '29682254-e8e6-11ef-8661-dae3f3b23e8c', 'x-amzn-bedrock-agent-content-type': 'application/json'}, 'RetryAttempts': 0}, 'contentType': 'application/json', 'sessionId': '29682254-e8e6-11ef-8661-dae3f3b23e8c', 'completion': <botocore.eventstream.EventStream object at 0x118ae6d50>}\n",
      "Tool Call Results: [{'function_name': 'uc-ai-bedrock-action-group-name-c__get_weather_in_celsius', 'parameters': {'fetch_date': '2024-11-19', 'location_id': '7890'}, 'invocation_id': 'e7b69e92-57f7-42fb-ba0b-91d70f8dd2e3'}]\n",
      "****************************\n",
      "Tool Calls: uc-ai-bedrock-action-group-name-c__get_weather_in_celsius\n",
      "****************************\n",
      "Full Function Name: AICatalog1.AISchema1.get_weather_in_celsius\n",
      "Retrieved function info Override: name='get_weather_in_celsius' catalog_name='AICatalog1' schema_name='AISchema1' input_params=FunctionParameterInfos(parameters=[FunctionParameterInfo(name='location_id', type_text='STRING', type_json='{\"name\": \"location_id\", \"type\": \"string\", \"nullable\": false, \"metadata\": {\"comment\": \"The name to be included in the greeting message.\"}}', type_name=<ColumnTypeName.STRING: 'STRING'>, type_precision=None, type_scale=None, type_interval_type=None, position=0, parameter_mode=None, parameter_type=None, parameter_default=None, comment='The name to be included in the greeting message.'), FunctionParameterInfo(name='fetch_date', type_text='STRING', type_json='{\"name\": \"fetch_date\", \"type\": \"string\", \"nullable\": false, \"metadata\": {\"comment\": \"The date with the location\"}}', type_name=<ColumnTypeName.STRING: 'STRING'>, type_precision=None, type_scale=None, type_interval_type=None, position=1, parameter_mode=None, parameter_type=None, parameter_default=None, comment='The date with the location')]) data_type=<ColumnTypeName.STRING: 'STRING'> full_data_type='STRING' return_params=None routine_body='EXTERNAL' routine_definition='try:\\n    # Fetch from Databricks SQL Warehouse based UC function execution \\n    return \"23\"\\nexcept Exception as e:\\n    raise Exception(f\"Error occurred: {e}\")' routine_dependencies=None parameter_style='S' is_deterministic=True sql_data_access='NO_SQL' is_null_call=False security_type='DEFINER' specific_name='get_weather_in_celsius' comment='Test function for AWS Bedrock integration.' properties=None full_name='AICatalog1.AISchema1.get_weather_in_celsius' owner=None created_at=1739316541957 created_by=None updated_at=1739316541957 updated_by=None function_id='e0315177-44c1-46cc-9551-bd9691acf1d3' external_language='PYTHON'\n",
      "**********************************************************\n",
      "too_call {'function_name': 'uc-ai-bedrock-action-group-name-c__get_weather_in_celsius', 'parameters': {'fetch_date': '2024-11-19', 'location_id': '7890'}, 'invocation_id': 'e7b69e92-57f7-42fb-ba0b-91d70f8dd2e3'}\n",
      "**********************************************************\n",
      "**********************************************************\n",
      "too_call FunctionExecutionResult(error=None, format='SCALAR', value='23', truncated=None)\n",
      "**********************************************************\n",
      "ToolResults: [{'invocation_id': 'e7b69e92-57f7-42fb-ba0b-91d70f8dd2e3', 'result': '23'}]\n",
      "SessionState from tool_results: {'invocationId': 'e7b69e92-57f7-42fb-ba0b-91d70f8dd2e3', 'returnControlInvocationResults': [{'functionResult': {'actionGroup': 'uc-ai-bedrock-action-group-name-c', 'function': 'get_weather_in_celsius', 'confirmationState': 'CONFIRM', 'responseBody': {'TEXT': {'body': '23'}}}}]}\n",
      "Results: [{'functionResult': {'actionGroup': 'uc-ai-bedrock-action-group-name-c', 'function': 'get_weather_in_celsius', 'confirmationState': 'CONFIRM', 'responseBody': {'TEXT': {'body': '23'}}}}]\n",
      "response_body_obj: {'TEXT': {'body': '23'}}\n",
      "result value: 23\n",
      "The weather for location 7890 on 2024-11-19 is 23 \n",
      "degrees Celsius.\n"
     ]
    }
   ],
   "source": [
    "response_c_1 = session_fh.invoke_agent(\n",
    "                input_text=\"What is the weather in Centigrade for location 7890 and date of 2024-11-19?.\",\n",
    "                enable_trace=True,\n",
    "                session_id=session_id_fh,\n",
    "                uc_client = toolkit.client\n",
    "                )\n",
    "\n",
    "\n",
    "# Run the stream with wrapping\n",
    "response_c_1.print_stream_with_wrapping(response_c_1.get_stream(), max_line_length=50)"
   ]
  },
  {
   "cell_type": "code",
   "execution_count": null,
   "metadata": {},
   "outputs": [],
   "source": [
    "## Multi action groups with single function call response. "
   ]
  },
  {
   "cell_type": "code",
   "execution_count": 13,
   "metadata": {},
   "outputs": [
    {
     "name": "stdout",
     "output_type": "stream",
     "text": [
      "Initialized BedrockSession with agent_id: HXPGL1POGD, agent_alias_id: X1KRKIAVYT, catalog_name: AICatalog1 schema_name: AISchema1, \n"
     ]
    }
   ],
   "source": [
    "# Bedrock agent configuration\n",
    "agent_id = \"HXPGL1POGD\"\n",
    "agent_alias_id_cfh2 = \"X1KRKIAVYT\"\n",
    "\n",
    "session_cfh_2 = toolkit.create_session(agent_id=agent_id,\n",
    "                                agent_alias_id=agent_alias_id_cfh2,\n",
    "                                catalog_name=CATALOG,\n",
    "                                schema_name=SCHEMA,\n",
    "                                #function_name=\"get_weather_in_celsius\"\n",
    "                                )\n",
    "# Generate unique session ID\n",
    "session_id_cfh_2 = str(uuid.uuid1())"
   ]
  },
  {
   "cell_type": "code",
   "execution_count": 14,
   "metadata": {},
   "outputs": [
    {
     "name": "stdout",
     "output_type": "stream",
     "text": [
      "Response from invoke agent: {'ResponseMetadata': {'RequestId': 'dbdc9205-a2a1-4895-b7d4-16dbc90913be', 'HTTPStatusCode': 200, 'HTTPHeaders': {'date': 'Wed, 12 Feb 2025 17:36:46 GMT', 'content-type': 'application/vnd.amazon.eventstream', 'transfer-encoding': 'chunked', 'connection': 'keep-alive', 'x-amzn-requestid': 'dbdc9205-a2a1-4895-b7d4-16dbc90913be', 'x-amz-bedrock-agent-session-id': 'ec10ac5a-e967-11ef-acf1-dae3f3b23e8c', 'x-amzn-bedrock-agent-content-type': 'application/json'}, 'RetryAttempts': 0}, 'contentType': 'application/json', 'sessionId': 'ec10ac5a-e967-11ef-acf1-dae3f3b23e8c', 'completion': <botocore.eventstream.EventStream object at 0x117982210>}\n",
      "Tool Call Results: [{'function_name': 'uc-ai-bedrock-action-group-name-c__get_weather_in_celsius', 'parameters': {'fetch_date': '2024-11-19', 'location_id': '1234'}, 'invocation_id': 'd9f3c992-c3b3-484b-afdd-18c08c94b5cb'}]\n",
      "****************************\n",
      "Tool Calls: uc-ai-bedrock-action-group-name-c__get_weather_in_celsius\n",
      "****************************\n",
      "Full Function Name: AICatalog1.AISchema1.get_weather_in_celsius\n",
      "Retrieved function info Override: name='get_weather_in_celsius' catalog_name='AICatalog1' schema_name='AISchema1' input_params=FunctionParameterInfos(parameters=[FunctionParameterInfo(name='location_id', type_text='STRING', type_json='{\"name\": \"location_id\", \"type\": \"string\", \"nullable\": false, \"metadata\": {\"comment\": \"The name to be included in the greeting message.\"}}', type_name=<ColumnTypeName.STRING: 'STRING'>, type_precision=None, type_scale=None, type_interval_type=None, position=0, parameter_mode=None, parameter_type=None, parameter_default=None, comment='The name to be included in the greeting message.'), FunctionParameterInfo(name='fetch_date', type_text='STRING', type_json='{\"name\": \"fetch_date\", \"type\": \"string\", \"nullable\": false, \"metadata\": {\"comment\": \"The date with the location\"}}', type_name=<ColumnTypeName.STRING: 'STRING'>, type_precision=None, type_scale=None, type_interval_type=None, position=1, parameter_mode=None, parameter_type=None, parameter_default=None, comment='The date with the location')]) data_type=<ColumnTypeName.STRING: 'STRING'> full_data_type='STRING' return_params=None routine_body='EXTERNAL' routine_definition='try:\\n    # Fetch from Databricks SQL Warehouse based UC function execution \\n    return \"23\"\\nexcept Exception as e:\\n    raise Exception(f\"Error occurred: {e}\")' routine_dependencies=None parameter_style='S' is_deterministic=True sql_data_access='NO_SQL' is_null_call=False security_type='DEFINER' specific_name='get_weather_in_celsius' comment='Test function for AWS Bedrock integration.' properties=None full_name='AICatalog1.AISchema1.get_weather_in_celsius' owner=None created_at=1739316541957 created_by=None updated_at=1739316541957 updated_by=None function_id='e0315177-44c1-46cc-9551-bd9691acf1d3' external_language='PYTHON'\n",
      "**********************************************************\n",
      "too_call {'function_name': 'uc-ai-bedrock-action-group-name-c__get_weather_in_celsius', 'parameters': {'fetch_date': '2024-11-19', 'location_id': '1234'}, 'invocation_id': 'd9f3c992-c3b3-484b-afdd-18c08c94b5cb'}\n",
      "**********************************************************\n",
      "**********************************************************\n",
      "too_call FunctionExecutionResult(error=None, format='SCALAR', value='23', truncated=None)\n",
      "**********************************************************\n",
      "ToolResults: [{'invocation_id': 'd9f3c992-c3b3-484b-afdd-18c08c94b5cb', 'result': '23'}]\n",
      "SessionState from tool_results: {'invocationId': 'd9f3c992-c3b3-484b-afdd-18c08c94b5cb', 'returnControlInvocationResults': [{'functionResult': {'actionGroup': 'uc-ai-bedrock-action-group-name-c', 'function': 'get_weather_in_celsius', 'confirmationState': 'CONFIRM', 'responseBody': {'TEXT': {'body': '23'}}}}]}\n",
      "Results: [{'functionResult': {'actionGroup': 'uc-ai-bedrock-action-group-name-c', 'function': 'get_weather_in_celsius', 'confirmationState': 'CONFIRM', 'responseBody': {'TEXT': {'body': '23'}}}}]\n",
      "response_body_obj: {'TEXT': {'body': '23'}}\n",
      "result value: 23\n"
     ]
    }
   ],
   "source": [
    "response_cfh_2 = session_cfh_2.invoke_agent(\n",
    "                input_text=\"What is the weather in Centigrade and Fahrenheit for location 1234 and date of 2024-11-19?.\",\n",
    "                enable_trace=True,\n",
    "                session_id=session_id_cfh_2,\n",
    "                uc_client = toolkit.client\n",
    "                )\n",
    "\n",
    "\n",
    "# Run the stream with wrapping\n",
    "response_cfh_2.print_stream_with_wrapping(response_cfh_2.get_stream(), max_line_length=50)"
   ]
  },
  {
   "cell_type": "markdown",
   "metadata": {},
   "source": [
    "## Single action group multiple functions call response. "
   ]
  },
  {
   "cell_type": "code",
   "execution_count": 8,
   "metadata": {},
   "outputs": [
    {
     "name": "stdout",
     "output_type": "stream",
     "text": [
      "Initialized BedrockSession with agent_id: HXPGL1POGD, agent_alias_id: TXKIZ3FMBB, catalog_name: AICatalog1 schema_name: AISchema1, \n"
     ]
    }
   ],
   "source": [
    "# Bedrock agent configuration\n",
    "agent_id = \"HXPGL1POGD\"\n",
    "agent_alias_id_s_ag_2fns = \"TXKIZ3FMBB\"\n",
    "\n",
    "session_s_ag_2fns = toolkit.create_session(agent_id=agent_id,\n",
    "                                agent_alias_id=agent_alias_id_s_ag_2fns,\n",
    "                                catalog_name=CATALOG,\n",
    "                                schema_name=SCHEMA,\n",
    "                                #function_name=\"get_weather_in_celsius\"\n",
    "                                )\n",
    "# Generate unique session ID\n",
    "session_id_s_ag_2fns = str(uuid.uuid1())"
   ]
  },
  {
   "cell_type": "code",
   "execution_count": null,
   "metadata": {},
   "outputs": [],
   "source": [
    "import time \n",
    "time.sleep(65)"
   ]
  },
  {
   "cell_type": "code",
   "execution_count": null,
   "metadata": {},
   "outputs": [
    {
     "name": "stdout",
     "output_type": "stream",
     "text": [
      "Response from invoke agent: {'ResponseMetadata': {'RequestId': '3fa5245f-fea6-4740-9e19-9febd569c8c3', 'HTTPStatusCode': 200, 'HTTPHeaders': {'date': 'Wed, 12 Feb 2025 17:14:31 GMT', 'content-type': 'application/vnd.amazon.eventstream', 'transfer-encoding': 'chunked', 'connection': 'keep-alive', 'x-amzn-requestid': '3fa5245f-fea6-4740-9e19-9febd569c8c3', 'x-amz-bedrock-agent-session-id': 'c5aea736-e964-11ef-acf1-dae3f3b23e8c', 'x-amzn-bedrock-agent-content-type': 'application/json'}, 'RetryAttempts': 0}, 'contentType': 'application/json', 'sessionId': 'c5aea736-e964-11ef-acf1-dae3f3b23e8c', 'completion': <botocore.eventstream.EventStream object at 0x11716f380>}\n",
      "Tool Call Results: [{'function_name': 'uc-ai-bedrock-action-group-name-cfh__get_weather_in_celsius', 'parameters': {'fetch_date': '2024-11-19', 'location_id': '7890'}, 'invocation_id': 'fa666a34-d23d-4b42-9eaa-6866af4c2dfe'}]\n",
      "****************************\n",
      "Tool Calls: uc-ai-bedrock-action-group-name-cfh__get_weather_in_celsius\n",
      "****************************\n",
      "Full Function Name: AICatalog1.AISchema1.get_weather_in_celsius\n",
      "Retrieved function info Override: name='get_weather_in_celsius' catalog_name='AICatalog1' schema_name='AISchema1' input_params=FunctionParameterInfos(parameters=[FunctionParameterInfo(name='location_id', type_text='STRING', type_json='{\"name\": \"location_id\", \"type\": \"string\", \"nullable\": false, \"metadata\": {\"comment\": \"The name to be included in the greeting message.\"}}', type_name=<ColumnTypeName.STRING: 'STRING'>, type_precision=None, type_scale=None, type_interval_type=None, position=0, parameter_mode=None, parameter_type=None, parameter_default=None, comment='The name to be included in the greeting message.'), FunctionParameterInfo(name='fetch_date', type_text='STRING', type_json='{\"name\": \"fetch_date\", \"type\": \"string\", \"nullable\": false, \"metadata\": {\"comment\": \"The date with the location\"}}', type_name=<ColumnTypeName.STRING: 'STRING'>, type_precision=None, type_scale=None, type_interval_type=None, position=1, parameter_mode=None, parameter_type=None, parameter_default=None, comment='The date with the location')]) data_type=<ColumnTypeName.STRING: 'STRING'> full_data_type='STRING' return_params=None routine_body='EXTERNAL' routine_definition='try:\\n    # Fetch from Databricks SQL Warehouse based UC function execution \\n    return \"23\"\\nexcept Exception as e:\\n    raise Exception(f\"Error occurred: {e}\")' routine_dependencies=None parameter_style='S' is_deterministic=True sql_data_access='NO_SQL' is_null_call=False security_type='DEFINER' specific_name='get_weather_in_celsius' comment='Test function for AWS Bedrock integration.' properties=None full_name='AICatalog1.AISchema1.get_weather_in_celsius' owner=None created_at=1739316541957 created_by=None updated_at=1739316541957 updated_by=None function_id='e0315177-44c1-46cc-9551-bd9691acf1d3' external_language='PYTHON'\n",
      "**********************************************************\n",
      "too_call {'function_name': 'uc-ai-bedrock-action-group-name-cfh__get_weather_in_celsius', 'parameters': {'fetch_date': '2024-11-19', 'location_id': '7890'}, 'invocation_id': 'fa666a34-d23d-4b42-9eaa-6866af4c2dfe'}\n",
      "**********************************************************\n",
      "**********************************************************\n",
      "too_call FunctionExecutionResult(error=None, format='SCALAR', value='23', truncated=None)\n",
      "**********************************************************\n",
      "ToolResults: [{'invocation_id': 'fa666a34-d23d-4b42-9eaa-6866af4c2dfe', 'result': '23'}]\n",
      "SessionState from tool_results: {'invocationId': 'fa666a34-d23d-4b42-9eaa-6866af4c2dfe', 'returnControlInvocationResults': [{'functionResult': {'actionGroup': 'uc-ai-bedrock-action-group-name-cfh', 'function': 'get_weather_in_celsius', 'confirmationState': 'CONFIRM', 'responseBody': {'TEXT': {'body': '23'}}}}]}\n",
      "Results: [{'functionResult': {'actionGroup': 'uc-ai-bedrock-action-group-name-cfh', 'function': 'get_weather_in_celsius', 'confirmationState': 'CONFIRM', 'responseBody': {'TEXT': {'body': '23'}}}}]\n",
      "response_body_obj: {'TEXT': {'body': '23'}}\n",
      "result value: 23\n"
     ]
    },
    {
     "ename": "NameError",
     "evalue": "name 'response_c_1' is not defined",
     "output_type": "error",
     "traceback": [
      "\u001b[0;31m---------------------------------------------------------------------------\u001b[0m",
      "\u001b[0;31mNameError\u001b[0m                                 Traceback (most recent call last)",
      "Cell \u001b[0;32mIn[9], line 10\u001b[0m\n\u001b[1;32m      1\u001b[0m response_s_ag_2fns \u001b[38;5;241m=\u001b[39m session_s_ag_2fns\u001b[38;5;241m.\u001b[39minvoke_agent(\n\u001b[1;32m      2\u001b[0m                 input_text\u001b[38;5;241m=\u001b[39m\u001b[38;5;124m\"\u001b[39m\u001b[38;5;124mWhat is the weather in Centigrade and Fahrenheit for location 7890 and date of 2024-11-19?.\u001b[39m\u001b[38;5;124m\"\u001b[39m,\n\u001b[1;32m      3\u001b[0m                 enable_trace\u001b[38;5;241m=\u001b[39m\u001b[38;5;28;01mTrue\u001b[39;00m,\n\u001b[1;32m      4\u001b[0m                 session_id\u001b[38;5;241m=\u001b[39msession_id_s_ag_2fns,\n\u001b[1;32m      5\u001b[0m                 uc_client \u001b[38;5;241m=\u001b[39m toolkit\u001b[38;5;241m.\u001b[39mclient\n\u001b[1;32m      6\u001b[0m                 )\n\u001b[1;32m      9\u001b[0m \u001b[38;5;66;03m# Run the stream with wrapping\u001b[39;00m\n\u001b[0;32m---> 10\u001b[0m \u001b[43mresponse_c_1\u001b[49m\u001b[38;5;241m.\u001b[39mprint_stream_with_wrapping(response_c_1\u001b[38;5;241m.\u001b[39mget_stream(), max_line_length\u001b[38;5;241m=\u001b[39m\u001b[38;5;241m50\u001b[39m)\n",
      "\u001b[0;31mNameError\u001b[0m: name 'response_c_1' is not defined"
     ]
    }
   ],
   "source": [
    "response_s_ag_2fns = session_s_ag_2fns.invoke_agent(\n",
    "                input_text=\"What is the weather in Centigrade and Fahrenheit for location 7890 and date of 2024-11-19?.\",\n",
    "                enable_trace=True,\n",
    "                session_id=session_id_s_ag_2fns,\n",
    "                uc_client = toolkit.client\n",
    "                )\n",
    "\n",
    "\n"
   ]
  },
  {
   "cell_type": "code",
   "execution_count": 11,
   "metadata": {},
   "outputs": [],
   "source": [
    "\n",
    "# Run the stream with wrapping\n",
    "response_s_ag_2fns.print_stream_with_wrapping(response_s_ag_2fns.get_stream(), max_line_length=50)"
   ]
  },
  {
   "cell_type": "markdown",
   "metadata": {},
   "source": []
  }
 ],
 "metadata": {
  "kernelspec": {
   "display_name": ".venv",
   "language": "python",
   "name": "python3"
  },
  "language_info": {
   "codemirror_mode": {
    "name": "ipython",
    "version": 3
   },
   "file_extension": ".py",
   "mimetype": "text/x-python",
   "name": "python",
   "nbconvert_exporter": "python",
   "pygments_lexer": "ipython3",
   "version": "3.13.1"
  }
 },
 "nbformat": 4,
 "nbformat_minor": 2
}

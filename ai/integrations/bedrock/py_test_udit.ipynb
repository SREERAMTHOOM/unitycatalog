
{
 "cells": [
  {
   "cell_type": "code",
   "execution_count": null,
   "metadata": {},
   "outputs": [],
   "source": [
    "from unitycatalog.ai.core.client import UnitycatalogFunctionClient\n",
    "from unitycatalog.client import ApiClient, Configuration\n",
    "from unitycatalog.ai.bedrock.toolkit import UCFunctionToolkit\n",
    "import boto3\n",
    "import uuid\n",
    "import os\n",
    "from pprint import pprint"
   ]
  },
  {
   "cell_type": "code",
   "execution_count": null,
   "metadata": {},
   "outputs": [],
   "source": [
    "def setup_uc_client():\n",
    "    \"\"\"Set up Unity Catalog client\"\"\"\n",
    "    config = Configuration()\n",
    "    config.host = \"http://0.0.0.0:8080/api/2.1/unity-catalog\"\n",
    "    api_client = ApiClient(configuration=config)\n",
    "    return UnitycatalogFunctionClient(api_client=api_client)"
   ]
  },
  {
   "cell_type": "code",
   "execution_count": null,
   "metadata": {},
   "outputs": [],
   "source": [
    "def test_weather_function():\n",
    "    \"\"\"Test the weather function with Bedrock integration\"\"\"\n",
    "    try:\n",
    "        # Initialize Unity Catalog client\n",
    "        client = setup_uc_client()\n",
    "\n",
    "        # Define the weather function\n",
    "        def location_weather_in_c(location_id: str, fetch_date: str) -> str:\n",
    "            \"\"\"Test function for AWS Bedrock integration.\n",
    "\n",
    "            Args:\n",
    "                location_id (str): The location ID for weather lookup\n",
    "                fetch_date (str): The date to fetch weather for\n",
    "\n",
    "            Returns:\n",
    "                str: Weather result in Celsius.\n",
    "            \"\"\"\n",
    "            return \"23\"\n",
    "\n",
    "        # Create catalog and schema\n",
    "        CATALOG = \"AICatalog\"\n",
    "        SCHEMA = \"AISchema\"\n",
    "\n",
    "        print(\"Creating catalog...\")\n",
    "        try:\n",
    "            client.uc.create_catalog(name=CATALOG,\n",
    "                                     comment=\"Catalog for AI functions\")\n",
    "        except Exception as e:\n",
    "            if \"already exists\" not in str(e):\n",
    "                raise e\n",
    "\n",
    "        print(\"Creating schema...\")\n",
    "        try:\n",
    "            client.uc.create_schema(catalog_name=CATALOG,\n",
    "                                    name=SCHEMA,\n",
    "                                    comment=\"Schema for AI functions\")\n",
    "        except Exception as e:\n",
    "            if \"already exists\" not in str(e):\n",
    "                raise e\n",
    "\n",
    "        print(\"Creating function in Unity Catalog...\")\n",
    "        client.create_python_function(func=location_weather_in_c,\n",
    "                                      catalog=CATALOG,\n",
    "                                      schema=SCHEMA,\n",
    "                                      replace=True)\n",
    "\n",
    "        # Create toolkit with weather function\n",
    "        function_name = f\"{CATALOG}.{SCHEMA}.location_weather_in_c\"\n",
    "        toolkit = UCFunctionToolkit(function_names=[function_name],\n",
    "                                    client=client)\n",
    "\n",
    "        # Bedrock agent configuration\n",
    "        agent_id = \"AP5RQUVNTU\"  # Replace with your agent ID\n",
    "        agent_alias_id = \"O6EXN8DJVZ\"  # Replace with your alias ID\n",
    "\n",
    "        # Create a session with Bedrock agent\n",
    "        session = toolkit.create_session(agent_id=agent_id,\n",
    "                                         agent_alias_id=agent_alias_id)\n",
    "        session_id = str(uuid.uuid1())\n",
    "\n",
    "        # Test streaming response\n",
    "        print(\"\\nTesting streaming response\")\n",
    "        response = session.invoke_agent(\n",
    "            input_text=\"What is the weather for location 1234 and date of 2024-11-19\",\n",
    "            enable_trace=True,\n",
    "            session_id=session_id,\n",
    "            uc_client=client,\n",
    "            stream=True)\n",
    "\n",
    "        print(\"Streaming chunks:\")\n",
    "        for chunk in response.get_stream():\n",
    "            print(chunk, end='', flush=True)\n",
    "\n",
    "        if response.requires_tool_execution:\n",
    "            print(\"\\n\\nTool calls required:\")\n",
    "            pprint(response.tool_calls)\n",
    "\n",
    "    except Exception as e:\n",
    "        print(f\"Error occurred: {e}\")"
   ]
  },
  {
   "cell_type": "code",
   "execution_count": null,
   "metadata": {},
   "outputs": [],
   "source": [
    "if __name__ == \"__main__\":\n",
    "    test_weather_function()"
   ]
  }
 ],
 "metadata": {
  "kernelspec": {
   "display_name": "Python 3",
   "language": "python",
   "name": "python3"
  },
  "language_info": {
   "codemirror_mode": {
    "name": "ipython",
    "version": 3
   },
   "file_extension": ".py",
   "mimetype": "text/x-python",
   "name": "python",
   "nbconvert_exporter": "python",
   "pygments_lexer": "ipython3",
   "version": "3.11"
  }
 },
 "nbformat": 4,
 "nbformat_minor": 4
}
